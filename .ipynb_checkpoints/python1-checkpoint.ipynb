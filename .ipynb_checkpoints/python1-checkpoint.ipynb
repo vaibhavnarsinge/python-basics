{
 "cells": [
  {
   "cell_type": "code",
   "execution_count": 1,
   "id": "f809467e-0211-4518-81ed-5c99b4e28e5a",
   "metadata": {
    "tags": []
   },
   "outputs": [
    {
     "name": "stdout",
     "output_type": "stream",
     "text": [
      "hello\n"
     ]
    }
   ],
   "source": [
    "print(\"hello\")"
   ]
  },
  {
   "cell_type": "code",
   "execution_count": 9,
   "id": "fb1a8454-9559-43b4-a916-78d97d8c3689",
   "metadata": {
    "tags": []
   },
   "outputs": [],
   "source": [
    "#data types\n",
    "#integer\n",
    "#float\n",
    "#string\n",
    "#boolean\n",
    "#none"
   ]
  },
  {
   "cell_type": "code",
   "execution_count": 10,
   "id": "a01df7d6-29fa-44e9-b79f-d2e23cc4c762",
   "metadata": {
    "tags": []
   },
   "outputs": [],
   "source": [
    "x =12"
   ]
  },
  {
   "cell_type": "code",
   "execution_count": 11,
   "id": "977a53aa-eaa2-412d-a3d8-0b2bc1b0e2ca",
   "metadata": {
    "tags": []
   },
   "outputs": [
    {
     "name": "stdout",
     "output_type": "stream",
     "text": [
      "12\n",
      "<class 'int'>\n"
     ]
    }
   ],
   "source": [
    "print(x)\n",
    "print(type(x))"
   ]
  },
  {
   "cell_type": "code",
   "execution_count": 13,
   "id": "f3a5cb7b-e87c-4536-8e2e-acb4791cc80f",
   "metadata": {
    "tags": []
   },
   "outputs": [],
   "source": [
    "y = \"vaibhav\"\n"
   ]
  },
  {
   "cell_type": "code",
   "execution_count": 14,
   "id": "48298abc-46cd-4b98-9fe2-6fc3c0c19d95",
   "metadata": {
    "tags": []
   },
   "outputs": [
    {
     "name": "stdout",
     "output_type": "stream",
     "text": [
      "vaibhav\n",
      "<class 'str'>\n"
     ]
    }
   ],
   "source": [
    "print(y)\n",
    "print(type(y))\n"
   ]
  },
  {
   "cell_type": "code",
   "execution_count": 4,
   "id": "cbd6310f-d4cb-4f30-9086-4c9e0ef074a9",
   "metadata": {
    "tags": []
   },
   "outputs": [
    {
     "name": "stdout",
     "output_type": "stream",
     "text": [
      " vaibhav\n"
     ]
    }
   ],
   "source": [
    "#input function\n",
    "\n",
    "name = input()\n"
   ]
  },
  {
   "cell_type": "code",
   "execution_count": null,
   "id": "c01898b3-7428-4412-b8f0-d11ad58182ad",
   "metadata": {},
   "outputs": [],
   "source": []
  },
  {
   "cell_type": "code",
   "execution_count": 5,
   "id": "fda7533b-7ebe-4d0f-8069-20f67ddab4b5",
   "metadata": {
    "tags": []
   },
   "outputs": [
    {
     "name": "stdout",
     "output_type": "stream",
     "text": [
      "vaibhav\n"
     ]
    }
   ],
   "source": [
    "print(name)"
   ]
  },
  {
   "cell_type": "code",
   "execution_count": null,
   "id": "e9a9e2a2-639a-4cae-85d1-4a8c69ed9e33",
   "metadata": {},
   "outputs": [],
   "source": [
    "#number as input\n"
   ]
  },
  {
   "cell_type": "code",
   "execution_count": 6,
   "id": "d98ef6f8-bacb-45db-bbce-f833fb0c5150",
   "metadata": {
    "tags": []
   },
   "outputs": [
    {
     "name": "stdout",
     "output_type": "stream",
     "text": [
      " 12\n"
     ]
    }
   ],
   "source": [
    "x =input()"
   ]
  },
  {
   "cell_type": "code",
   "execution_count": 7,
   "id": "2055f0f6-de49-454c-bbc2-a84ea1d0020e",
   "metadata": {
    "tags": []
   },
   "outputs": [
    {
     "name": "stdout",
     "output_type": "stream",
     "text": [
      "12\n"
     ]
    }
   ],
   "source": [
    "print(x)"
   ]
  },
  {
   "cell_type": "code",
   "execution_count": 8,
   "id": "7a1d4e5b-2357-457f-9c6f-e011e8252728",
   "metadata": {
    "tags": []
   },
   "outputs": [
    {
     "name": "stdout",
     "output_type": "stream",
     "text": [
      "<class 'str'>\n"
     ]
    }
   ],
   "source": [
    "print(type(x))"
   ]
  },
  {
   "cell_type": "code",
   "execution_count": 15,
   "id": "01c87007-0727-4dd7-8d2a-48cc21688c53",
   "metadata": {
    "tags": []
   },
   "outputs": [],
   "source": [
    "#type conversion"
   ]
  },
  {
   "cell_type": "code",
   "execution_count": 16,
   "id": "68bb3d1d-fa4e-4a11-9fb7-80e574801609",
   "metadata": {
    "tags": []
   },
   "outputs": [],
   "source": [
    "x = 12\n"
   ]
  },
  {
   "cell_type": "code",
   "execution_count": 17,
   "id": "c19f8401-1db7-4364-bbb5-eecc90c6f802",
   "metadata": {
    "tags": []
   },
   "outputs": [],
   "source": [
    "y = float(x)"
   ]
  },
  {
   "cell_type": "code",
   "execution_count": 19,
   "id": "acb711fd-ae4a-4252-a443-41cf68c2b41c",
   "metadata": {
    "tags": []
   },
   "outputs": [
    {
     "name": "stdout",
     "output_type": "stream",
     "text": [
      "12.0\n",
      "<class 'float'>\n",
      "<class 'int'>\n"
     ]
    }
   ],
   "source": [
    "print(y)\n",
    "print(type(y))\n",
    "print(type(x))\n"
   ]
  },
  {
   "cell_type": "code",
   "execution_count": 20,
   "id": "9acb1a06-8637-4297-b5d5-27eb2bbe5d27",
   "metadata": {
    "tags": []
   },
   "outputs": [],
   "source": [
    "c = float(\"1.5\")\n"
   ]
  },
  {
   "cell_type": "code",
   "execution_count": 21,
   "id": "957f994f-98b3-4228-b833-97ab80199482",
   "metadata": {
    "tags": []
   },
   "outputs": [
    {
     "data": {
      "text/plain": [
       "float"
      ]
     },
     "execution_count": 21,
     "metadata": {},
     "output_type": "execute_result"
    }
   ],
   "source": [
    "type(c)\n"
   ]
  },
  {
   "cell_type": "code",
   "execution_count": 22,
   "id": "fff3e7ef-990c-4496-a04a-b08e9e1bef3e",
   "metadata": {
    "tags": []
   },
   "outputs": [
    {
     "data": {
      "text/plain": [
       "1"
      ]
     },
     "execution_count": 22,
     "metadata": {},
     "output_type": "execute_result"
    }
   ],
   "source": [
    "int(c)\n"
   ]
  },
  {
   "cell_type": "code",
   "execution_count": 23,
   "id": "352a7eaf-baec-438c-8617-f77f30df5cb9",
   "metadata": {
    "tags": []
   },
   "outputs": [],
   "source": [
    "#printing multiple values using print function\n"
   ]
  },
  {
   "cell_type": "code",
   "execution_count": 24,
   "id": "de915fb1-78f9-4a1e-b1f1-085ed60b9a0c",
   "metadata": {
    "tags": []
   },
   "outputs": [
    {
     "name": "stdout",
     "output_type": "stream",
     "text": [
      "RahuLl\n"
     ]
    }
   ],
   "source": [
    "print(\"RahuLl\")\n"
   ]
  },
  {
   "cell_type": "code",
   "execution_count": 25,
   "id": "36481006-8b30-436f-b561-3c5c15172811",
   "metadata": {
    "tags": []
   },
   "outputs": [
    {
     "name": "stdout",
     "output_type": "stream",
     "text": [
      "rahul vaibhav Nirmal\n"
     ]
    }
   ],
   "source": [
    "print(\"rahul\",\"vaibhav\",\"Nirmal\")\n"
   ]
  },
  {
   "cell_type": "code",
   "execution_count": 26,
   "id": "bfe46285-b9b7-4f17-902b-6fad2db1bc6b",
   "metadata": {
    "tags": []
   },
   "outputs": [
    {
     "name": "stdout",
     "output_type": "stream",
     "text": [
      "rahul vaibhav Nirmal 12 123 24 123 1 312 131 313 123 31\n"
     ]
    }
   ],
   "source": [
    "print(\"rahul\",\"vaibhav\",\"Nirmal\", 12,123,24,123,1,312,131,313,123,31)\n"
   ]
  },
  {
   "cell_type": "code",
   "execution_count": 27,
   "id": "f79e2239-871f-4fda-8d54-7a549cdd5075",
   "metadata": {
    "tags": []
   },
   "outputs": [
    {
     "name": "stdout",
     "output_type": "stream",
     "text": [
      "rahul vaibhav Nirmal 12 12 312 131 313 123 31\n"
     ]
    }
   ],
   "source": [
    "print(\"rahul\",\"vaibhav\",\"Nirmal\", 12,12,312,131,313,123,31)\n",
    "\n"
   ]
  },
  {
   "cell_type": "code",
   "execution_count": 29,
   "id": "0aab4109-3d70-4a9c-89c0-ee270ca0a309",
   "metadata": {
    "tags": []
   },
   "outputs": [],
   "source": [
    "#there is by default \\n at end of print statement"
   ]
  },
  {
   "cell_type": "code",
   "execution_count": 31,
   "id": "e2df99e1-efeb-4c37-8360-cc023e21a3dd",
   "metadata": {
    "tags": []
   },
   "outputs": [
    {
     "name": "stdout",
     "output_type": "stream",
     "text": [
      "vaibhav 21\n",
      "rahul 23\n"
     ]
    }
   ],
   "source": [
    " #example\n",
    "print(\"vaibhav\",21)\n",
    "print(\"rahul\",23)"
   ]
  },
  {
   "cell_type": "code",
   "execution_count": 32,
   "id": "21c3a944-48e1-4831-99d9-67b70fa684b1",
   "metadata": {
    "tags": []
   },
   "outputs": [
    {
     "name": "stdout",
     "output_type": "stream",
     "text": [
      "vaibhav->21\n"
     ]
    }
   ],
   "source": [
    "print(\"vaibhav\",21, sep=\"->\")"
   ]
  },
  {
   "cell_type": "code",
   "execution_count": null,
   "id": "db261aa4-8a6c-452f-a2c8-c3d8bb0ed3f5",
   "metadata": {},
   "outputs": [],
   "source": []
  },
  {
   "cell_type": "code",
   "execution_count": 33,
   "id": "8f716a8e-c6d3-44b1-a60b-57c75a1e6c1f",
   "metadata": {
    "tags": []
   },
   "outputs": [
    {
     "name": "stdout",
     "output_type": "stream",
     "text": [
      "rahul->vaibhav->Nirmal->12->12->312->131->313->123->31\n"
     ]
    }
   ],
   "source": [
    "print(\"rahul\",\"vaibhav\",\"Nirmal\", 12,12,312,131,313,123,31,sep=\"->\")\n"
   ]
  },
  {
   "cell_type": "code",
   "execution_count": 34,
   "id": "486c6139-2a27-419e-934b-8337fe8f24c6",
   "metadata": {
    "tags": []
   },
   "outputs": [
    {
     "name": "stdout",
     "output_type": "stream",
     "text": [
      "rahul\n",
      "vaibhav\n",
      "Nirmal\n",
      "12\n",
      "12\n",
      "312\n",
      "131\n",
      "313\n",
      "123\n",
      "31\n"
     ]
    }
   ],
   "source": [
    "print(\"rahul\",\"vaibhav\",\"Nirmal\", 12,12,312,131,313,123,31,sep=\"\\n\")\n"
   ]
  },
  {
   "cell_type": "code",
   "execution_count": 35,
   "id": "466c100e-3e6c-42d1-bcee-b748cfc2353f",
   "metadata": {
    "tags": []
   },
   "outputs": [
    {
     "name": "stdout",
     "output_type": "stream",
     "text": [
      "rahul,vaibhav,Nirmal,12,12,312,131,313,123,31\n"
     ]
    }
   ],
   "source": [
    "print(\"rahul\",\"vaibhav\",\"Nirmal\", 12,12,312,131,313,123,31,sep=\",\")\n"
   ]
  },
  {
   "cell_type": "code",
   "execution_count": 36,
   "id": "16da917d-fd9e-4b8a-addd-3f8b4dfcf1d6",
   "metadata": {
    "tags": []
   },
   "outputs": [
    {
     "name": "stdout",
     "output_type": "stream",
     "text": [
      "vaibhav 21 rahul 23\n"
     ]
    }
   ],
   "source": [
    "#end operator\n",
    "\n",
    "print(\"vaibhav\",21,end=\" \")\n",
    "print(\"rahul\",23)"
   ]
  },
  {
   "cell_type": "code",
   "execution_count": 38,
   "id": "c554e0c4-13dd-42f3-b81c-1969be768ea0",
   "metadata": {
    "tags": []
   },
   "outputs": [
    {
     "name": "stdout",
     "output_type": "stream",
     "text": [
      "vaibhav\n",
      "21->rahul 23\n"
     ]
    }
   ],
   "source": [
    "print(\"vaibhav\",21,sep=\"\\n\",end=\"->\")\n",
    "print(\"rahul\",23)"
   ]
  },
  {
   "cell_type": "code",
   "execution_count": 39,
   "id": "7745d0f4-63e7-4cce-accd-dd82d4af446d",
   "metadata": {
    "tags": []
   },
   "outputs": [
    {
     "name": "stdout",
     "output_type": "stream",
     "text": [
      "\n"
     ]
    }
   ],
   "source": [
    "c = print()"
   ]
  },
  {
   "cell_type": "code",
   "execution_count": 40,
   "id": "a127e5f1-1a08-4627-bf95-ee6ac6d8666b",
   "metadata": {
    "tags": []
   },
   "outputs": [
    {
     "name": "stdout",
     "output_type": "stream",
     "text": [
      "<class 'NoneType'>\n"
     ]
    }
   ],
   "source": [
    "print(type(c))"
   ]
  },
  {
   "cell_type": "code",
   "execution_count": 42,
   "id": "f7718715-0f2f-4355-a3a0-14df4802bbb4",
   "metadata": {
    "tags": []
   },
   "outputs": [],
   "source": [
    "#   X + Y , here x, y are operand and + is operator \n",
    "#and this whole is known as expression"
   ]
  },
  {
   "cell_type": "code",
   "execution_count": 92,
   "id": "7c7ec410-7e31-4d46-b9c0-881e70a21d5c",
   "metadata": {
    "tags": []
   },
   "outputs": [],
   "source": [
    "#Arithmatic operator\n",
    "#  +, -, *, /, %\n",
    "#Addition +\n",
    "#subtraction -\n",
    "#division /         it always gives float values\n",
    "#mod %\n",
    "#multiplication *\n"
   ]
  },
  {
   "cell_type": "code",
   "execution_count": 49,
   "id": "62aa073d-03d7-488f-86f4-e354a4ad5d89",
   "metadata": {
    "tags": []
   },
   "outputs": [
    {
     "name": "stdout",
     "output_type": "stream",
     "text": [
      "Addition =  12\n",
      "suntraction =  -2\n",
      "Division =  0.7142857142857143\n",
      "multiplication =  35\n"
     ]
    }
   ],
   "source": [
    "a = 5\n",
    "b = 7\n",
    "\n",
    "print(\"Addition = \",(a+b))\n",
    "print(\"suntraction = \",(a-b))\n",
    "print(\"Division = \",(a/b))\n",
    "print(\"multiplication = \",(a*b))"
   ]
  },
  {
   "cell_type": "code",
   "execution_count": 50,
   "id": "15930730-d28d-4171-94a6-7c8f3d7a9540",
   "metadata": {
    "tags": []
   },
   "outputs": [
    {
     "data": {
      "text/plain": [
       "12"
      ]
     },
     "execution_count": 50,
     "metadata": {},
     "output_type": "execute_result"
    }
   ],
   "source": [
    "a+b"
   ]
  },
  {
   "cell_type": "code",
   "execution_count": 51,
   "id": "66b286ad-2248-4027-81ba-570c9de1a618",
   "metadata": {
    "tags": []
   },
   "outputs": [
    {
     "data": {
      "text/plain": [
       "-2"
      ]
     },
     "execution_count": 51,
     "metadata": {},
     "output_type": "execute_result"
    }
   ],
   "source": [
    "a-b"
   ]
  },
  {
   "cell_type": "code",
   "execution_count": 52,
   "id": "3f429ce6-48ae-4fc4-9a0c-16a8eb7158bb",
   "metadata": {
    "tags": []
   },
   "outputs": [
    {
     "data": {
      "text/plain": [
       "0.7142857142857143"
      ]
     },
     "execution_count": 52,
     "metadata": {},
     "output_type": "execute_result"
    }
   ],
   "source": [
    "a/b"
   ]
  },
  {
   "cell_type": "code",
   "execution_count": 53,
   "id": "d167c80f-40d5-4065-abcf-2faa4f4c7e84",
   "metadata": {
    "tags": []
   },
   "outputs": [
    {
     "data": {
      "text/plain": [
       "35"
      ]
     },
     "execution_count": 53,
     "metadata": {},
     "output_type": "execute_result"
    }
   ],
   "source": [
    "a*b"
   ]
  },
  {
   "cell_type": "code",
   "execution_count": 55,
   "id": "d19a5fe1-3439-41e5-ba07-fcda47ef83d7",
   "metadata": {
    "tags": []
   },
   "outputs": [
    {
     "data": {
      "text/plain": [
       "4.0120000000000005"
      ]
     },
     "execution_count": 55,
     "metadata": {},
     "output_type": "execute_result"
    }
   ],
   "source": [
    "1.5  +  2.512"
   ]
  },
  {
   "cell_type": "code",
   "execution_count": 56,
   "id": "93c69505-bb4d-4699-b01f-7de3a3a5fd39",
   "metadata": {
    "tags": []
   },
   "outputs": [
    {
     "data": {
      "text/plain": [
       "144"
      ]
     },
     "execution_count": 56,
     "metadata": {},
     "output_type": "execute_result"
    }
   ],
   "source": [
    "12 * 12"
   ]
  },
  {
   "cell_type": "code",
   "execution_count": 57,
   "id": "9f2dab7f-b5aa-4edb-bda7-76a7966a7f2d",
   "metadata": {
    "tags": []
   },
   "outputs": [
    {
     "data": {
      "text/plain": [
       "24.2"
      ]
     },
     "execution_count": 57,
     "metadata": {},
     "output_type": "execute_result"
    }
   ],
   "source": [
    "121/5"
   ]
  },
  {
   "cell_type": "code",
   "execution_count": 59,
   "id": "d017fd6e-670f-420d-9a40-3fbb80f5cabd",
   "metadata": {
    "tags": []
   },
   "outputs": [
    {
     "name": "stdout",
     "output_type": "stream",
     "text": [
      "Vaibhav Narsinge\n"
     ]
    }
   ],
   "source": [
    "first = \"Vaibhav\"\n",
    "last = \" Narsinge\"\n",
    " \n",
    "# string concatenation\n",
    "\n",
    "print(first + last)"
   ]
  },
  {
   "cell_type": "code",
   "execution_count": 64,
   "id": "4fe26418-8c2a-4f83-9929-5443fe190ca6",
   "metadata": {
    "tags": []
   },
   "outputs": [
    {
     "name": "stdout",
     "output_type": "stream",
     "text": [
      "11\n",
      "<class 'NoneType'>\n"
     ]
    }
   ],
   "source": [
    "a  =  print(\"1\" + \"1\")\n",
    "\n",
    "print(type(a))"
   ]
  },
  {
   "cell_type": "code",
   "execution_count": 63,
   "id": "d7d16da0-91f4-4c9a-acec-8e9f5b549d2f",
   "metadata": {
    "tags": []
   },
   "outputs": [
    {
     "data": {
      "text/plain": [
       "str"
      ]
     },
     "execution_count": 63,
     "metadata": {},
     "output_type": "execute_result"
    }
   ],
   "source": [
    "type(\"1\")\n"
   ]
  },
  {
   "cell_type": "code",
   "execution_count": 65,
   "id": "d1253ae1-f803-4439-9105-b1aaa456793b",
   "metadata": {
    "tags": []
   },
   "outputs": [
    {
     "data": {
      "text/plain": [
       "'VaibhavVaibhavVaibhav'"
      ]
     },
     "execution_count": 65,
     "metadata": {},
     "output_type": "execute_result"
    }
   ],
   "source": [
    "first * 3"
   ]
  },
  {
   "cell_type": "code",
   "execution_count": 66,
   "id": "4f52adc6-be50-4cee-aa16-e307345df057",
   "metadata": {
    "tags": []
   },
   "outputs": [
    {
     "data": {
      "text/plain": [
       "' Narsinge Narsinge Narsinge'"
      ]
     },
     "execution_count": 66,
     "metadata": {},
     "output_type": "execute_result"
    }
   ],
   "source": [
    "last*3"
   ]
  },
  {
   "cell_type": "code",
   "execution_count": 68,
   "id": "6a9b7b63-959c-445e-804a-470f3a481918",
   "metadata": {
    "tags": []
   },
   "outputs": [],
   "source": [
    "#cant't multiply string X string\n",
    "\n",
    "#first*first"
   ]
  },
  {
   "cell_type": "code",
   "execution_count": 84,
   "id": "38fe6d4f-2aca-4fc8-bb54-25c0fa797e03",
   "metadata": {
    "tags": []
   },
   "outputs": [
    {
     "name": "stdout",
     "output_type": "stream",
     "text": [
      "13 3\n"
     ]
    }
   ],
   "source": [
    "a = 13\n",
    "b = 3\n",
    "print(a,b)"
   ]
  },
  {
   "cell_type": "code",
   "execution_count": 85,
   "id": "ac9d4907-6eb1-4297-b391-c0e6974ff105",
   "metadata": {
    "tags": []
   },
   "outputs": [
    {
     "name": "stdout",
     "output_type": "stream",
     "text": [
      "1\n"
     ]
    }
   ],
   "source": [
    "print(a % b) #it return remainder"
   ]
  },
  {
   "cell_type": "code",
   "execution_count": 86,
   "id": "f1e1a067-4156-42ac-aec8-ef1ae5a49847",
   "metadata": {
    "tags": []
   },
   "outputs": [
    {
     "name": "stdout",
     "output_type": "stream",
     "text": [
      "4.333333333333333\n"
     ]
    }
   ],
   "source": [
    "print(a / b) #it returns result of division"
   ]
  },
  {
   "cell_type": "code",
   "execution_count": 87,
   "id": "7ca44e8a-80c7-44d0-a39a-142d35b69938",
   "metadata": {
    "tags": []
   },
   "outputs": [
    {
     "name": "stdout",
     "output_type": "stream",
     "text": [
      "4\n"
     ]
    }
   ],
   "source": [
    "# // in flooor division\n",
    "print(a//b)   #it not print numbers after decimal"
   ]
  },
  {
   "cell_type": "code",
   "execution_count": 89,
   "id": "0a34b865-0c33-435a-95df-a439f44e71b6",
   "metadata": {
    "tags": []
   },
   "outputs": [
    {
     "name": "stdout",
     "output_type": "stream",
     "text": [
      "2197\n"
     ]
    }
   ],
   "source": [
    "print(a**b) # here b will be power and a is base"
   ]
  },
  {
   "cell_type": "code",
   "execution_count": 91,
   "id": "aff72fba-2d7c-4379-8f51-40a0b65a43f6",
   "metadata": {
    "tags": []
   },
   "outputs": [],
   "source": [
    "#comparison operator\n",
    "#<, > , <=, >=, == , !="
   ]
  },
  {
   "cell_type": "code",
   "execution_count": 93,
   "id": "b4ce0478-ea6b-4c9e-9aab-20a2dc763fef",
   "metadata": {
    "tags": []
   },
   "outputs": [],
   "source": [
    "a = 6\n",
    "b = 3"
   ]
  },
  {
   "cell_type": "code",
   "execution_count": 95,
   "id": "1c4aba40-6638-4c6e-a5d2-b43ce47c749b",
   "metadata": {
    "tags": []
   },
   "outputs": [
    {
     "name": "stdout",
     "output_type": "stream",
     "text": [
      "False\n"
     ]
    }
   ],
   "source": [
    "print(a == b)"
   ]
  },
  {
   "cell_type": "code",
   "execution_count": 96,
   "id": "15d3b96c-e226-4996-82e5-8de84f7e9bdc",
   "metadata": {
    "tags": []
   },
   "outputs": [
    {
     "name": "stdout",
     "output_type": "stream",
     "text": [
      "True\n"
     ]
    }
   ],
   "source": [
    "print(a != b)"
   ]
  },
  {
   "cell_type": "code",
   "execution_count": 97,
   "id": "95f0a774-6ec7-4b72-b51c-f1ba7d010743",
   "metadata": {
    "tags": []
   },
   "outputs": [
    {
     "name": "stdout",
     "output_type": "stream",
     "text": [
      "False\n"
     ]
    }
   ],
   "source": [
    "print(a < b)"
   ]
  },
  {
   "cell_type": "code",
   "execution_count": 98,
   "id": "3eca09c6-4d9a-4cd8-a5c2-6ecc30d729f2",
   "metadata": {
    "tags": []
   },
   "outputs": [
    {
     "name": "stdout",
     "output_type": "stream",
     "text": [
      "True\n"
     ]
    }
   ],
   "source": [
    "print(a > b)"
   ]
  },
  {
   "cell_type": "code",
   "execution_count": 99,
   "id": "3f33ca3e-f23f-46d6-9d71-4a29c9d0722f",
   "metadata": {
    "tags": []
   },
   "outputs": [],
   "source": [
    "#assignment operators\n",
    "#  =, -=, +=,/=,  *="
   ]
  },
  {
   "cell_type": "code",
   "execution_count": 100,
   "id": "c24f9e41-811e-4e47-90e7-308f821c1148",
   "metadata": {
    "tags": []
   },
   "outputs": [],
   "source": [
    "a = 5"
   ]
  },
  {
   "cell_type": "code",
   "execution_count": 101,
   "id": "8da3c9ac-a8bc-43f5-a778-9ac7e6132ef3",
   "metadata": {
    "tags": []
   },
   "outputs": [
    {
     "name": "stdout",
     "output_type": "stream",
     "text": [
      "10\n"
     ]
    }
   ],
   "source": [
    "a = a +5\n",
    "print(a)"
   ]
  },
  {
   "cell_type": "code",
   "execution_count": 104,
   "id": "bb1d89db-9879-4d4c-aa8c-e5ff97a631fc",
   "metadata": {
    "tags": []
   },
   "outputs": [
    {
     "name": "stdout",
     "output_type": "stream",
     "text": [
      "10\n"
     ]
    }
   ],
   "source": [
    "a = 5\n",
    "a += 5\n",
    "print(a)"
   ]
  },
  {
   "cell_type": "code",
   "execution_count": 105,
   "id": "e3a71c7f-e128-4116-a675-4661d890d6ca",
   "metadata": {
    "tags": []
   },
   "outputs": [
    {
     "name": "stdout",
     "output_type": "stream",
     "text": [
      "7\n"
     ]
    }
   ],
   "source": [
    "a -= 3\n",
    "print(a)"
   ]
  },
  {
   "cell_type": "code",
   "execution_count": 106,
   "id": "c22f43dd-4992-4723-be4e-585e17c2abdd",
   "metadata": {
    "tags": []
   },
   "outputs": [
    {
     "name": "stdout",
     "output_type": "stream",
     "text": [
      "14\n"
     ]
    }
   ],
   "source": [
    "a *= 2\n",
    "print(a)"
   ]
  },
  {
   "cell_type": "code",
   "execution_count": 107,
   "id": "e79c6f08-7346-4ce7-9d08-f42a1853b9f4",
   "metadata": {
    "tags": []
   },
   "outputs": [
    {
     "name": "stdout",
     "output_type": "stream",
     "text": [
      "7.0\n"
     ]
    }
   ],
   "source": [
    "a /= 2\n",
    "print(a)"
   ]
  },
  {
   "cell_type": "code",
   "execution_count": 108,
   "id": "60130998-30f6-409d-9525-0f22e19e8bc0",
   "metadata": {
    "tags": []
   },
   "outputs": [],
   "source": [
    "#logical operators\n",
    "# and  , or, not "
   ]
  },
  {
   "cell_type": "code",
   "execution_count": 113,
   "id": "bd8cd656-8b2e-4c92-aff7-10c3b11f95c9",
   "metadata": {
    "tags": []
   },
   "outputs": [
    {
     "name": "stdout",
     "output_type": "stream",
     "text": [
      "False\n",
      "True\n"
     ]
    }
   ],
   "source": [
    "a = True\n",
    "b = False\n",
    "print(a and b)\n",
    "print(a or b)\n"
   ]
  },
  {
   "cell_type": "code",
   "execution_count": 115,
   "id": "efab7d02-1a5e-481f-a520-ea202b53ed28",
   "metadata": {
    "tags": []
   },
   "outputs": [
    {
     "name": "stdout",
     "output_type": "stream",
     "text": [
      "4\n",
      "3\n"
     ]
    }
   ],
   "source": [
    "a = 3\n",
    "b = 4\n",
    "print(a and b)\n",
    "print(a or b)"
   ]
  },
  {
   "cell_type": "code",
   "execution_count": 116,
   "id": "a3a619d7-0581-4da2-b0c7-de06213c22e0",
   "metadata": {
    "tags": []
   },
   "outputs": [
    {
     "data": {
      "text/plain": [
       "False"
      ]
     },
     "execution_count": 116,
     "metadata": {},
     "output_type": "execute_result"
    }
   ],
   "source": [
    "not True"
   ]
  },
  {
   "cell_type": "code",
   "execution_count": 117,
   "id": "352e07f2-4530-4744-8a39-e622c962707b",
   "metadata": {
    "tags": []
   },
   "outputs": [
    {
     "data": {
      "text/plain": [
       "True"
      ]
     },
     "execution_count": 117,
     "metadata": {},
     "output_type": "execute_result"
    }
   ],
   "source": [
    "not False"
   ]
  },
  {
   "cell_type": "code",
   "execution_count": 118,
   "id": "794906ae-5e8d-4ad8-bbd7-17683e631fbf",
   "metadata": {
    "tags": []
   },
   "outputs": [
    {
     "data": {
      "text/plain": [
       "True"
      ]
     },
     "execution_count": 118,
     "metadata": {},
     "output_type": "execute_result"
    }
   ],
   "source": [
    "True or False"
   ]
  },
  {
   "cell_type": "code",
   "execution_count": 119,
   "id": "e8cfeb4f-4ac2-4449-a2e9-78debe459d33",
   "metadata": {
    "tags": []
   },
   "outputs": [],
   "source": [
    "#Special operators\n",
    "\n",
    "#  in operator\n",
    "#  is operator"
   ]
  },
  {
   "cell_type": "code",
   "execution_count": 121,
   "id": "eee0af83-68ef-4609-8091-a88eccdd2a41",
   "metadata": {
    "tags": []
   },
   "outputs": [],
   "source": [
    "name = \"vaibhav Narsinge\""
   ]
  },
  {
   "cell_type": "code",
   "execution_count": 122,
   "id": "1a180cf0-fef8-496e-b721-7cc57ed725c1",
   "metadata": {
    "tags": []
   },
   "outputs": [
    {
     "data": {
      "text/plain": [
       "True"
      ]
     },
     "execution_count": 122,
     "metadata": {},
     "output_type": "execute_result"
    }
   ],
   "source": [
    "\"v\" in name"
   ]
  },
  {
   "cell_type": "code",
   "execution_count": 123,
   "id": "c57692fd-65b8-4915-a85b-f5183de8c879",
   "metadata": {
    "tags": []
   },
   "outputs": [
    {
     "data": {
      "text/plain": [
       "True"
      ]
     },
     "execution_count": 123,
     "metadata": {},
     "output_type": "execute_result"
    }
   ],
   "source": [
    "\"vaibhav\" in name"
   ]
  },
  {
   "cell_type": "code",
   "execution_count": 124,
   "id": "9bd04ae9-a2ca-4882-bed1-f07085e2a7c1",
   "metadata": {
    "tags": []
   },
   "outputs": [
    {
     "data": {
      "text/plain": [
       "False"
      ]
     },
     "execution_count": 124,
     "metadata": {},
     "output_type": "execute_result"
    }
   ],
   "source": [
    "\"rahul\" in name"
   ]
  },
  {
   "cell_type": "code",
   "execution_count": 125,
   "id": "0d2cd85c-530b-40ed-87d7-2bf92a7c7a9c",
   "metadata": {
    "tags": []
   },
   "outputs": [
    {
     "name": "stdout",
     "output_type": "stream",
     "text": [
      "140731850593192 140731850593192\n"
     ]
    }
   ],
   "source": [
    "#is\n",
    "a = 5\n",
    "b = 5\n",
    "print(id(a), id(b))"
   ]
  },
  {
   "cell_type": "code",
   "execution_count": 126,
   "id": "f6cf8e80-482d-4085-a377-e34b0e5b765f",
   "metadata": {
    "tags": []
   },
   "outputs": [
    {
     "data": {
      "text/plain": [
       "True"
      ]
     },
     "execution_count": 126,
     "metadata": {},
     "output_type": "execute_result"
    }
   ],
   "source": [
    "a is b"
   ]
  },
  {
   "cell_type": "code",
   "execution_count": 128,
   "id": "6418a917-5ed4-47cc-9168-79c4939d7bb9",
   "metadata": {
    "tags": []
   },
   "outputs": [
    {
     "name": "stdout",
     "output_type": "stream",
     "text": [
      "140731850597256 140731850594504\n"
     ]
    },
    {
     "data": {
      "text/plain": [
       "False"
      ]
     },
     "execution_count": 128,
     "metadata": {},
     "output_type": "execute_result"
    }
   ],
   "source": [
    "a = 132\n",
    "b = 46\n",
    "print(id(a), id(b))\n",
    "a is b"
   ]
  },
  {
   "cell_type": "code",
   "execution_count": 130,
   "id": "29bca911-0f25-499a-ac34-13ae09373a98",
   "metadata": {
    "tags": []
   },
   "outputs": [],
   "source": [
    "#Conditions \n",
    "#if, else\n",
    "#nested if else"
   ]
  },
  {
   "cell_type": "code",
   "execution_count": 140,
   "id": "ddb2efff-1b47-4296-810f-20eb36330670",
   "metadata": {
    "tags": []
   },
   "outputs": [
    {
     "name": "stdout",
     "output_type": "stream",
     "text": [
      " 445\n"
     ]
    },
    {
     "name": "stdout",
     "output_type": "stream",
     "text": [
      "Drive slow\n"
     ]
    }
   ],
   "source": [
    "age = int(input())\n",
    "\n",
    "if(age < 18):\n",
    "    print(\"You are not eligible\")\n",
    "    print(\"Drive slow\")\n",
    "elif 18 > age < 40:\n",
    "    print(\"Not eligible\")\n",
    "    print(\"Drive midslow\")\n",
    "elif(age > 40):\n",
    "    print(\"Drive slow\")"
   ]
  },
  {
   "cell_type": "code",
   "execution_count": 4,
   "id": "8f33d48c-1c30-4b50-98b1-044d8d81d625",
   "metadata": {},
   "outputs": [
    {
     "name": "stdout",
     "output_type": "stream",
     "text": [
      " 12\n"
     ]
    },
    {
     "name": "stdout",
     "output_type": "stream",
     "text": [
      "Wait... till you 18+\n"
     ]
    }
   ],
   "source": [
    "#if , else\n",
    "age = int(input())\n",
    "\n",
    "if age > 18:\n",
    "    if age >= 65:\n",
    "        print(\"Take care..bye...\")\n",
    "    else:\n",
    "        print(\"You are eligible...\")\n",
    "        print(\"Drive fast...\")\n",
    "else:\n",
    "    print(\"Wait... till you 18+\")"
   ]
  },
  {
   "cell_type": "code",
   "execution_count": 8,
   "id": "c3be27b9-d10a-41ad-99b9-705fdb0cd6b0",
   "metadata": {
    "tags": []
   },
   "outputs": [
    {
     "name": "stdout",
     "output_type": "stream",
     "text": [
      " 0\n"
     ]
    },
    {
     "name": "stdout",
     "output_type": "stream",
     "text": [
      "Zero\n"
     ]
    }
   ],
   "source": [
    "#if, elif,else\n",
    "\n",
    "n = int(input())\n",
    "if n > 0:\n",
    "    print(\"+ve\")\n",
    "elif n==0:\n",
    "    print(\"Zero\")\n",
    "else:\n",
    "    print(\"-ve\")\n"
   ]
  },
  {
   "cell_type": "code",
   "execution_count": 12,
   "id": "7f1d4ba4-782d-403b-ac44-6bff44e87e5a",
   "metadata": {
    "tags": []
   },
   "outputs": [
    {
     "name": "stdout",
     "output_type": "stream",
     "text": [
      "Topper =  98\n"
     ]
    }
   ],
   "source": [
    "# find max of list\n",
    "marks = [90,56,67,87,67,98,45]\n",
    "\n",
    "high = marks[0]\n",
    "#iterate\n",
    "for i in marks:\n",
    "    #check the condition\n",
    "    if i > high:\n",
    "        high = i;\n",
    "print(\"Topper = \",high)"
   ]
  },
  {
   "cell_type": "code",
   "execution_count": 14,
   "id": "3e92c5db-56e9-4c98-a25f-664ae6f81c8f",
   "metadata": {
    "tags": []
   },
   "outputs": [
    {
     "name": "stdout",
     "output_type": "stream",
     "text": [
      "98\n",
      "45\n"
     ]
    }
   ],
   "source": [
    "# using max, min function\n",
    "print(max(marks))\n",
    "print(min(marks))"
   ]
  },
  {
   "cell_type": "code",
   "execution_count": null,
   "id": "c7f92fd5-f0e7-4f4d-914c-c8c85a5728c2",
   "metadata": {
    "tags": []
   },
   "outputs": [],
   "source": [
    "#grading student\n",
    "\n",
    "mark = int(input())\n",
    "\n",
    "if mark >=90 and mark<=100:\n",
    "    print(\"A grade\")\n",
    "elif mark>=70 and mark<=80:\n",
    "    print(\"Grade B\")\n",
    "elif mark<60:\n",
    "    print(\"pass\")"
   ]
  },
  {
   "cell_type": "code",
   "execution_count": null,
   "id": "9405330f-1c32-4716-bc70-92692b399243",
   "metadata": {
    "tags": []
   },
   "outputs": [],
   "source": [
    "#loops\n"
   ]
  },
  {
   "cell_type": "code",
   "execution_count": 2,
   "id": "7daeb7c3-3350-4c37-a9c7-175acc3a282d",
   "metadata": {
    "tags": []
   },
   "outputs": [
    {
     "name": "stdout",
     "output_type": "stream",
     "text": [
      "I am the best\n",
      "I am the best\n",
      "I am the best\n",
      "I am the best\n",
      "I am the best\n",
      "I am the best\n"
     ]
    }
   ],
   "source": [
    "#while loop\n",
    "#initialise\n",
    "#loop conditon\n",
    "#updating value\n",
    "\n",
    "i = 1;\n",
    "while i <= 6:\n",
    "    print(\"I am the best\")\n",
    "    i+=1\n",
    "\n"
   ]
  },
  {
   "cell_type": "code",
   "execution_count": 1,
   "id": "346d137a-20d2-4e28-95f7-93c0d5b79ab8",
   "metadata": {
    "tags": []
   },
   "outputs": [
    {
     "name": "stdout",
     "output_type": "stream",
     "text": [
      "1 2 3 4 5 6 7 8 9 10 "
     ]
    }
   ],
   "source": [
    "i = 1\n",
    "while i<=10:\n",
    "    print(i,end=\" \")\n",
    "    i+=1"
   ]
  },
  {
   "cell_type": "code",
   "execution_count": 3,
   "id": "7a5aab43-337c-407d-a167-52956e0df2c7",
   "metadata": {
    "tags": []
   },
   "outputs": [
    {
     "name": "stdout",
     "output_type": "stream",
     "text": [
      "0 2 4 6 8 10 "
     ]
    }
   ],
   "source": [
    "i=0\n",
    "while i<=10:\n",
    "    if i%2 == 0:\n",
    "        print(i,end=\" \")\n",
    "    i+=1"
   ]
  },
  {
   "cell_type": "code",
   "execution_count": null,
   "id": "f4fae96d-5000-4f85-a863-3053989a02ac",
   "metadata": {
    "tags": []
   },
   "outputs": [],
   "source": [
    "print(\"hello\")"
   ]
  },
  {
   "cell_type": "code",
   "execution_count": 2,
   "id": "01b9c671-70ca-440a-921f-b3622f4880b7",
   "metadata": {
    "tags": []
   },
   "outputs": [
    {
     "name": "stdout",
     "output_type": "stream",
     "text": [
      "SUM =  55\n"
     ]
    }
   ],
   "source": [
    "i=1\n",
    "sum=0\n",
    "while i<=10:\n",
    "    sum = sum+i\n",
    "    i+=1\n",
    "print(\"SUM = \",sum)"
   ]
  },
  {
   "cell_type": "code",
   "execution_count": null,
   "id": "c90f806b-7e48-4a0e-bf11-f34725011bfe",
   "metadata": {},
   "outputs": [],
   "source": [
    "print(\"Heloo\")"
   ]
  },
  {
   "cell_type": "code",
   "execution_count": 5,
   "id": "4b6ebd1f-b878-4073-8a14-01613c6a491a",
   "metadata": {},
   "outputs": [],
   "source": [
    "#range function\n",
    "#it has three parameters star,end,jump\n",
    "#start is by default 0 and jump is 1"
   ]
  },
  {
   "cell_type": "code",
   "execution_count": 6,
   "id": "71a3c0e9",
   "metadata": {},
   "outputs": [
    {
     "data": {
      "text/plain": [
       "[0, 1, 2, 3, 4]"
      ]
     },
     "execution_count": 6,
     "metadata": {},
     "output_type": "execute_result"
    }
   ],
   "source": [
    "list(range(5))"
   ]
  },
  {
   "cell_type": "code",
   "execution_count": 9,
   "id": "79e95a3b",
   "metadata": {},
   "outputs": [
    {
     "data": {
      "text/plain": [
       "[1, 2, 3, 4]"
      ]
     },
     "execution_count": 9,
     "metadata": {},
     "output_type": "execute_result"
    }
   ],
   "source": [
    "#jump is 1 by default and star is 1 given\n",
    "list(range(1,5))"
   ]
  },
  {
   "cell_type": "code",
   "execution_count": 11,
   "id": "ece9bc07",
   "metadata": {},
   "outputs": [
    {
     "data": {
      "text/plain": [
       "[2, 4, 6, 8]"
      ]
     },
     "execution_count": 11,
     "metadata": {},
     "output_type": "execute_result"
    }
   ],
   "source": [
    "list(range(2,10,2))"
   ]
  },
  {
   "cell_type": "code",
   "execution_count": 12,
   "id": "db50dbe8",
   "metadata": {},
   "outputs": [
    {
     "data": {
      "text/plain": [
       "[10, 9, 8, 7, 6, 5, 4, 3, 2]"
      ]
     },
     "execution_count": 12,
     "metadata": {},
     "output_type": "execute_result"
    }
   ],
   "source": [
    "list(range(10,1,-1))"
   ]
  },
  {
   "cell_type": "code",
   "execution_count": 13,
   "id": "c4a2c42e",
   "metadata": {},
   "outputs": [
    {
     "data": {
      "text/plain": [
       "[-1, 0, 1, 2, 3, 4, 5, 6, 7, 8, 9]"
      ]
     },
     "execution_count": 13,
     "metadata": {},
     "output_type": "execute_result"
    }
   ],
   "source": [
    "list(range(-1,10))"
   ]
  },
  {
   "cell_type": "code",
   "execution_count": 15,
   "id": "4e2de6c1",
   "metadata": {},
   "outputs": [],
   "source": [
    "#iterator, interable and interation\n",
    "#for loop"
   ]
  },
  {
   "cell_type": "code",
   "execution_count": 18,
   "id": "a6659bf7",
   "metadata": {},
   "outputs": [
    {
     "name": "stdout",
     "output_type": "stream",
     "text": [
      "1 2 3 4 5 6 7 8 9 10 "
     ]
    }
   ],
   "source": [
    "# i : interator\n",
    "# range() : interable\n",
    "for i in range(1,11):\n",
    "    print(i, end=\" \")"
   ]
  },
  {
   "cell_type": "code",
   "execution_count": 21,
   "id": "688dba13",
   "metadata": {},
   "outputs": [
    {
     "name": "stdout",
     "output_type": "stream",
     "text": [
      "4\n",
      "8\n",
      "12\n",
      "16\n",
      "20\n",
      "24\n",
      "28\n",
      "32\n",
      "36\n",
      "40\n"
     ]
    }
   ],
   "source": [
    "#multiplication table\n",
    "n = int(input(\"Enter number\"))\n",
    "for i in range(1,11):\n",
    "    print(i*n)"
   ]
  },
  {
   "cell_type": "code",
   "execution_count": 24,
   "id": "9dcec274",
   "metadata": {},
   "outputs": [
    {
     "name": "stdout",
     "output_type": "stream",
     "text": [
      "# # # # \n",
      "# # # # \n",
      "# # # # \n",
      "# # # # \n"
     ]
    }
   ],
   "source": [
    "#patterns\n",
    "\n",
    "# # # #\n",
    "# # # #\n",
    "# # # # \n",
    "# # # #\n",
    "for i in range(4):\n",
    "    print(\"#\",end=\" \")\n",
    "print()\n",
    "for i in range(4):\n",
    "    print(\"#\",end=\" \")\n",
    "print()\n",
    "for i in range(4):\n",
    "    print(\"#\",end=\" \")\n",
    "print()\n",
    "for i in range(4):\n",
    "    print(\"#\",end=\" \")\n",
    "print()"
   ]
  },
  {
   "cell_type": "code",
   "execution_count": 27,
   "id": "1cd76686",
   "metadata": {},
   "outputs": [
    {
     "name": "stdout",
     "output_type": "stream",
     "text": [
      "# # # # # \n",
      "# # # # # \n",
      "# # # # # \n",
      "# # # # # \n",
      "# # # # # \n"
     ]
    }
   ],
   "source": [
    "for i in range(5):\n",
    "    for i in range(5):\n",
    "        print(\"#\",end=\" \")\n",
    "    print()"
   ]
  },
  {
   "cell_type": "code",
   "execution_count": 33,
   "id": "61c1125a",
   "metadata": {},
   "outputs": [
    {
     "name": "stdout",
     "output_type": "stream",
     "text": [
      "# \n",
      "# # \n",
      "# # # \n",
      "# # # # \n"
     ]
    }
   ],
   "source": [
    "n = int(input(\"Enter number\"))\n",
    "for i in range(1,n+1):\n",
    "    for j in range(i):\n",
    "        print(\"#\",end =\" \")\n",
    "    print()   #new line"
   ]
  },
  {
   "cell_type": "code",
   "execution_count": 36,
   "id": "2cc54b3e",
   "metadata": {},
   "outputs": [],
   "source": [
    "# break continue pass statements\n",
    "# break : breaks the flow of programm\n",
    "# continue : it skipp that particular section\n",
    "# pass : to avoid the syntax error"
   ]
  },
  {
   "cell_type": "code",
   "execution_count": 39,
   "id": "31ae2cde",
   "metadata": {},
   "outputs": [],
   "source": [
    "#pass\n",
    "for i in range(1,10):\n",
    "    pass"
   ]
  },
  {
   "cell_type": "code",
   "execution_count": 44,
   "id": "58ceaeb1",
   "metadata": {},
   "outputs": [
    {
     "name": "stdout",
     "output_type": "stream",
     "text": [
      "1 2 3 4 6 7 8 9 "
     ]
    }
   ],
   "source": [
    "#continue\n",
    "for i in range(1,10):\n",
    "    if i == 5:\n",
    "        continue # here it skipp the 5 \n",
    "    print(i,end =\" \")"
   ]
  },
  {
   "cell_type": "code",
   "execution_count": 46,
   "id": "f1a13d5b",
   "metadata": {},
   "outputs": [
    {
     "name": "stdout",
     "output_type": "stream",
     "text": [
      "1 2 3 4 "
     ]
    }
   ],
   "source": [
    "#break\n",
    "for i in range(1,10):\n",
    "    if i==5:\n",
    "        break # when i is 5 it break/stop execution of the programm\n",
    "    print(i,end=\" \")"
   ]
  },
  {
   "cell_type": "code",
   "execution_count": 50,
   "id": "c9006d2e",
   "metadata": {},
   "outputs": [
    {
     "name": "stdout",
     "output_type": "stream",
     "text": [
      "1 2 3 4 "
     ]
    }
   ],
   "source": [
    "#break using while\n",
    "i = 1\n",
    "while i<10:\n",
    "    if i == 5:\n",
    "        break\n",
    "    print(i,end=\" \")\n",
    "    i+=1"
   ]
  },
  {
   "cell_type": "code",
   "execution_count": 55,
   "id": "d1ec12ba",
   "metadata": {},
   "outputs": [
    {
     "data": {
      "text/plain": [
       "' A string is sequence of character\\n    can be a group of :\\n    alphabets\\n    digit\\n    whitespaces\\n    special character\\n\\n    can be define in \\' \\' , \" \" ,  this is for multiline string\\n\\n    '"
      ]
     },
     "execution_count": 55,
     "metadata": {},
     "output_type": "execute_result"
    }
   ],
   "source": [
    "#String \n",
    "\"\"\" A string is sequence of character\n",
    "    can be a group of :\n",
    "    alphabets\n",
    "    digit\n",
    "    whitespaces\n",
    "    special character\n",
    "\n",
    "    can be define in ' ' , \" \" , \"\"\" \"\"\" this is for multiline string\n",
    "\n",
    "    \"\"\""
   ]
  },
  {
   "cell_type": "code",
   "execution_count": 52,
   "id": "6d0094e4",
   "metadata": {},
   "outputs": [
    {
     "data": {
      "text/plain": [
       "True"
      ]
     },
     "execution_count": 52,
     "metadata": {},
     "output_type": "execute_result"
    }
   ],
   "source": [
    "\"Vaibhav\" == \"Vaibhav\""
   ]
  },
  {
   "cell_type": "code",
   "execution_count": 54,
   "id": "71bb91c2",
   "metadata": {},
   "outputs": [
    {
     "data": {
      "text/plain": [
       "False"
      ]
     },
     "execution_count": 54,
     "metadata": {},
     "output_type": "execute_result"
    }
   ],
   "source": [
    "\"Vaibhav\" == \"vaibhav\" #case sensitive\n"
   ]
  },
  {
   "cell_type": "code",
   "execution_count": 58,
   "id": "9c8631f1",
   "metadata": {},
   "outputs": [
    {
     "name": "stdout",
     "output_type": "stream",
     "text": [
      "97\n",
      "<class 'str'>\n"
     ]
    }
   ],
   "source": [
    "a = \"97\"\n",
    "print(a)\n",
    "print(type(a))"
   ]
  },
  {
   "cell_type": "code",
   "execution_count": 60,
   "id": "6d6f41e3",
   "metadata": {},
   "outputs": [
    {
     "name": "stdout",
     "output_type": "stream",
     "text": [
      "Vaibhav\n",
      "Vaibhav\n",
      "vaibhav\n",
      "    narsinge\n"
     ]
    }
   ],
   "source": [
    "s1 = 'Vaibhav'\n",
    "s2 = \"Vaibhav\"\n",
    "s3 = \"\"\"vaibhav\n",
    "    narsinge\"\"\"\n",
    "\n",
    "print(s1)\n",
    "print(s1)\n",
    "print(s3)"
   ]
  },
  {
   "cell_type": "code",
   "execution_count": 61,
   "id": "04acc4db",
   "metadata": {},
   "outputs": [],
   "source": [
    "#ORD and CHR functions"
   ]
  },
  {
   "cell_type": "code",
   "execution_count": 66,
   "id": "5b305ce7",
   "metadata": {},
   "outputs": [
    {
     "data": {
      "text/plain": [
       "97"
      ]
     },
     "execution_count": 66,
     "metadata": {},
     "output_type": "execute_result"
    }
   ],
   "source": [
    "ord(\"a\") # gives ASCII value\n"
   ]
  },
  {
   "cell_type": "code",
   "execution_count": 65,
   "id": "492abf15",
   "metadata": {},
   "outputs": [
    {
     "data": {
      "text/plain": [
       "57"
      ]
     },
     "execution_count": 65,
     "metadata": {},
     "output_type": "execute_result"
    }
   ],
   "source": [
    "ord(\"9\")"
   ]
  },
  {
   "cell_type": "code",
   "execution_count": 67,
   "id": "128b8d91",
   "metadata": {},
   "outputs": [
    {
     "data": {
      "text/plain": [
       "65"
      ]
     },
     "execution_count": 67,
     "metadata": {},
     "output_type": "execute_result"
    }
   ],
   "source": [
    "ord(\"A\")"
   ]
  },
  {
   "cell_type": "code",
   "execution_count": 69,
   "id": "b032a98f",
   "metadata": {},
   "outputs": [
    {
     "data": {
      "text/plain": [
       "'a'"
      ]
     },
     "execution_count": 69,
     "metadata": {},
     "output_type": "execute_result"
    }
   ],
   "source": [
    "#chr function \n",
    "chr(97)"
   ]
  },
  {
   "cell_type": "code",
   "execution_count": 70,
   "id": "000a81a8",
   "metadata": {},
   "outputs": [
    {
     "data": {
      "text/plain": [
       "'⽚'"
      ]
     },
     "execution_count": 70,
     "metadata": {},
     "output_type": "execute_result"
    }
   ],
   "source": [
    "chr(12122)"
   ]
  },
  {
   "cell_type": "code",
   "execution_count": 71,
   "id": "051a17c4",
   "metadata": {},
   "outputs": [
    {
     "data": {
      "text/plain": [
       "'😀'"
      ]
     },
     "execution_count": 71,
     "metadata": {},
     "output_type": "execute_result"
    }
   ],
   "source": [
    "chr(128512)"
   ]
  },
  {
   "cell_type": "code",
   "execution_count": 72,
   "id": "b71c606c",
   "metadata": {},
   "outputs": [
    {
     "data": {
      "text/plain": [
       "'😁'"
      ]
     },
     "execution_count": 72,
     "metadata": {},
     "output_type": "execute_result"
    }
   ],
   "source": [
    "chr(128513)"
   ]
  },
  {
   "cell_type": "code",
   "execution_count": 80,
   "id": "c2d959dd",
   "metadata": {},
   "outputs": [
    {
     "name": "stdout",
     "output_type": "stream",
     "text": [
      "v\n",
      "aibh\n",
      "vaibhav \n",
      "egnisran vahbiav\n",
      "e\n",
      "vaibhav narsinge\n"
     ]
    }
   ],
   "source": [
    "#indexing in string // slicing of string\n",
    "name = \"vaibhav narsinge\"\n",
    "print(name[0])\n",
    "print(name[1:5])\n",
    "print(name[0:8])\n",
    "print(name[::-1])\n",
    "print(name[-1])\n",
    "print(name[::1])"
   ]
  },
  {
   "cell_type": "code",
   "execution_count": 82,
   "id": "dedfe0cb",
   "metadata": {},
   "outputs": [
    {
     "data": {
      "text/plain": [
       "7"
      ]
     },
     "execution_count": 82,
     "metadata": {},
     "output_type": "execute_result"
    }
   ],
   "source": [
    "#len function\n",
    "len(\"Vaibhav\")"
   ]
  },
  {
   "cell_type": "code",
   "execution_count": 90,
   "id": "c6ff802b",
   "metadata": {},
   "outputs": [
    {
     "name": "stdout",
     "output_type": "stream",
     "text": [
      "vihvnrig\n",
      "vaibhav narsinge\n",
      "egnisran vahbia\n"
     ]
    }
   ],
   "source": [
    "# slicing take start end and jump input\n",
    "name = \"vaibhav narsinge\"\n",
    "print(name[::2])\n",
    "print(name[:])\n",
    "print(name[-1:0:-1])"
   ]
  },
  {
   "cell_type": "code",
   "execution_count": 92,
   "id": "072b722f",
   "metadata": {},
   "outputs": [],
   "source": [
    "#String methods\n",
    "# capitalize, title, upper, lower,find,count,index,replace,split\n",
    "#isupper,islower,isnumeric,isalpha........"
   ]
  },
  {
   "cell_type": "code",
   "execution_count": 93,
   "id": "1e67362a",
   "metadata": {},
   "outputs": [],
   "source": [
    "name = \"Vaibhav Narsinge\""
   ]
  },
  {
   "cell_type": "code",
   "execution_count": 95,
   "id": "df8efaa9",
   "metadata": {},
   "outputs": [
    {
     "data": {
      "text/plain": [
       "'Vaibhav narsinge'"
      ]
     },
     "execution_count": 95,
     "metadata": {},
     "output_type": "execute_result"
    }
   ],
   "source": [
    "name.capitalize()"
   ]
  },
  {
   "cell_type": "code",
   "execution_count": 96,
   "id": "e953933b",
   "metadata": {},
   "outputs": [
    {
     "data": {
      "text/plain": [
       "'VAIBHAV NARSINGE'"
      ]
     },
     "execution_count": 96,
     "metadata": {},
     "output_type": "execute_result"
    }
   ],
   "source": [
    "name.upper()"
   ]
  },
  {
   "cell_type": "code",
   "execution_count": 97,
   "id": "a83c0628",
   "metadata": {},
   "outputs": [
    {
     "data": {
      "text/plain": [
       "'vaibhav narsinge'"
      ]
     },
     "execution_count": 97,
     "metadata": {},
     "output_type": "execute_result"
    }
   ],
   "source": [
    "name.lower()"
   ]
  },
  {
   "cell_type": "code",
   "execution_count": 102,
   "id": "5b8e623d",
   "metadata": {},
   "outputs": [
    {
     "data": {
      "text/plain": [
       "1"
      ]
     },
     "execution_count": 102,
     "metadata": {},
     "output_type": "execute_result"
    }
   ],
   "source": [
    "name.find(\"a\")"
   ]
  },
  {
   "cell_type": "code",
   "execution_count": 104,
   "id": "7f90ad6c",
   "metadata": {},
   "outputs": [
    {
     "data": {
      "text/plain": [
       "1"
      ]
     },
     "execution_count": 104,
     "metadata": {},
     "output_type": "execute_result"
    }
   ],
   "source": [
    "name.find(\"a\")"
   ]
  },
  {
   "cell_type": "code",
   "execution_count": 105,
   "id": "34d18740",
   "metadata": {},
   "outputs": [
    {
     "data": {
      "text/plain": [
       "False"
      ]
     },
     "execution_count": 105,
     "metadata": {},
     "output_type": "execute_result"
    }
   ],
   "source": [
    "name.isupper() #checking alphabet are uppercase"
   ]
  },
  {
   "cell_type": "code",
   "execution_count": 106,
   "id": "7799073d",
   "metadata": {},
   "outputs": [
    {
     "data": {
      "text/plain": [
       "False"
      ]
     },
     "execution_count": 106,
     "metadata": {},
     "output_type": "execute_result"
    }
   ],
   "source": [
    "name.isupper()"
   ]
  },
  {
   "cell_type": "code",
   "execution_count": 107,
   "id": "0ac38792",
   "metadata": {},
   "outputs": [
    {
     "data": {
      "text/plain": [
       "False"
      ]
     },
     "execution_count": 107,
     "metadata": {},
     "output_type": "execute_result"
    }
   ],
   "source": [
    "name.isalpha()"
   ]
  },
  {
   "cell_type": "code",
   "execution_count": 108,
   "id": "44ae020b",
   "metadata": {},
   "outputs": [
    {
     "data": {
      "text/plain": [
       "['Vaibhav', 'Narsinge']"
      ]
     },
     "execution_count": 108,
     "metadata": {},
     "output_type": "execute_result"
    }
   ],
   "source": [
    "name.split()"
   ]
  },
  {
   "cell_type": "code",
   "execution_count": 110,
   "id": "9ba59b3b",
   "metadata": {},
   "outputs": [
    {
     "data": {
      "text/plain": [
       "'Balu Narsinge'"
      ]
     },
     "execution_count": 110,
     "metadata": {},
     "output_type": "execute_result"
    }
   ],
   "source": [
    "name.replace(\"Vaibhav\",\"Balu\")"
   ]
  },
  {
   "cell_type": "code",
   "execution_count": 111,
   "id": "65577d8c",
   "metadata": {},
   "outputs": [
    {
     "data": {
      "text/plain": [
       "['va', 'sk', 'wwewkn', 'ca', 'a', 'laa', 'adla', 'al', 'ail', 'aj', 'aln']"
      ]
     },
     "execution_count": 111,
     "metadata": {},
     "output_type": "execute_result"
    }
   ],
   "source": [
    "n = \"va sk ww ewkn  ca a laa adla al ail aj aln\"\n",
    "n.split()"
   ]
  },
  {
   "cell_type": "code",
   "execution_count": 116,
   "id": "595b4076",
   "metadata": {},
   "outputs": [
    {
     "name": "stdout",
     "output_type": "stream",
     "text": [
      "True\n"
     ]
    }
   ],
   "source": [
    "print(\"2\".isnumeric())"
   ]
  },
  {
   "cell_type": "code",
   "execution_count": 117,
   "id": "ce92f79f",
   "metadata": {},
   "outputs": [
    {
     "data": {
      "text/plain": [
       "True"
      ]
     },
     "execution_count": 117,
     "metadata": {},
     "output_type": "execute_result"
    }
   ],
   "source": [
    "\"vaibhav\".islower()"
   ]
  },
  {
   "cell_type": "code",
   "execution_count": 118,
   "id": "04870b5a",
   "metadata": {},
   "outputs": [],
   "source": [
    "#String formatting"
   ]
  },
  {
   "cell_type": "code",
   "execution_count": 120,
   "id": "ef5926d9",
   "metadata": {},
   "outputs": [
    {
     "name": "stdout",
     "output_type": "stream",
     "text": [
      "My name is  vaibhav  and my age is  23\n"
     ]
    }
   ],
   "source": [
    "name = input()\n",
    "age = input()\n",
    "print(\"My name is \",name,\" and my age is \",age)"
   ]
  },
  {
   "cell_type": "code",
   "execution_count": 122,
   "id": "b15a4745",
   "metadata": {},
   "outputs": [
    {
     "name": "stdout",
     "output_type": "stream",
     "text": [
      "Hey my name is vaibhav. and my age is 23\n"
     ]
    }
   ],
   "source": [
    "name = input()\n",
    "age = input()\n",
    "print(\"Hey my name is {}. and my age is {}\".format(name,age))"
   ]
  },
  {
   "cell_type": "code",
   "execution_count": 124,
   "id": "8903f26f",
   "metadata": {},
   "outputs": [
    {
     "name": "stdout",
     "output_type": "stream",
     "text": [
      "My name is Vaibhav. and my age is 23.\n"
     ]
    }
   ],
   "source": [
    "name = \"Vaibhav\"\n",
    "age = 23\n",
    "print(f\"My name is {name}. and my age is {age}.\")"
   ]
  },
  {
   "cell_type": "code",
   "execution_count": 125,
   "id": "611c0e6a",
   "metadata": {},
   "outputs": [
    {
     "name": "stdout",
     "output_type": "stream",
     "text": [
      "vaibhavnarsinge\n"
     ]
    }
   ],
   "source": [
    "#string concatinaton\n",
    "first = input()\n",
    "last = input()\n",
    "print(first+last)"
   ]
  },
  {
   "cell_type": "code",
   "execution_count": 127,
   "id": "b8142a22",
   "metadata": {},
   "outputs": [
    {
     "name": "stdout",
     "output_type": "stream",
     "text": [
      "vaibhav Narsinge\n"
     ]
    }
   ],
   "source": [
    "first = \"vaibhav\"\n",
    "last = \" Narsinge\"\n",
    "print(first+last)"
   ]
  },
  {
   "cell_type": "code",
   "execution_count": 128,
   "id": "b102253c",
   "metadata": {},
   "outputs": [
    {
     "name": "stdout",
     "output_type": "stream",
     "text": [
      "2vbn\n"
     ]
    }
   ],
   "source": [
    "print(\"2\" + \"vbn\")"
   ]
  },
  {
   "cell_type": "code",
   "execution_count": 133,
   "id": "956e60ca",
   "metadata": {},
   "outputs": [
    {
     "name": "stdout",
     "output_type": "stream",
     "text": [
      "e i u e o e e a o "
     ]
    }
   ],
   "source": [
    "# print vowels\n",
    "\n",
    "text = \"the fix jumpes over the lazy dog\"\n",
    "# print a, e, i, o, u from string\n",
    "\n",
    "for i in text:\n",
    "    if i=='a' or i=='e' or i=='i' or i=='o' or i=='u':\n",
    "        print(i , end = \" \")"
   ]
  },
  {
   "cell_type": "code",
   "execution_count": 135,
   "id": "e4052ba5",
   "metadata": {},
   "outputs": [
    {
     "name": "stdout",
     "output_type": "stream",
     "text": [
      "Not palindrome\n"
     ]
    }
   ],
   "source": [
    "#find string is palindrome or not\n",
    "\n",
    "# eg... racecar, radar\n",
    "\n",
    "s = input()\n",
    "\n",
    "ss = s[::-1]\n",
    "if s == ss:\n",
    "    print(\"Palindrome\")\n",
    "else:\n",
    "    print(\"Not palindrome\")"
   ]
  },
  {
   "cell_type": "code",
   "execution_count": 136,
   "id": "8d0ba6c3",
   "metadata": {},
   "outputs": [],
   "source": [
    "#Data structures \n",
    "#list\n",
    "#tuple\n",
    "#disctionary\n",
    "#set"
   ]
  },
  {
   "cell_type": "code",
   "execution_count": 137,
   "id": "e7be280f",
   "metadata": {},
   "outputs": [
    {
     "name": "stdout",
     "output_type": "stream",
     "text": [
      "<class 'list'>\n"
     ]
    }
   ],
   "source": [
    "l = list()\n",
    "print(type(l))"
   ]
  },
  {
   "cell_type": "code",
   "execution_count": 143,
   "id": "71836a83",
   "metadata": {},
   "outputs": [
    {
     "name": "stdout",
     "output_type": "stream",
     "text": [
      "[1, 23, 3, 45, 4, 456, 43, 5, 4, 3534]\n"
     ]
    }
   ],
   "source": [
    "l = [12,43,65,76,45,78,65,98,78]\n",
    "print(l1)\n"
   ]
  },
  {
   "cell_type": "code",
   "execution_count": 144,
   "id": "65d784fc",
   "metadata": {},
   "outputs": [
    {
     "data": {
      "text/plain": [
       "76"
      ]
     },
     "execution_count": 144,
     "metadata": {},
     "output_type": "execute_result"
    }
   ],
   "source": [
    "l[3]"
   ]
  },
  {
   "cell_type": "code",
   "execution_count": 145,
   "id": "1f54d156",
   "metadata": {},
   "outputs": [
    {
     "data": {
      "text/plain": [
       "[12, 43, 65, 76, 45, 78, 65, 98, 78]"
      ]
     },
     "execution_count": 145,
     "metadata": {},
     "output_type": "execute_result"
    }
   ],
   "source": [
    "l"
   ]
  },
  {
   "cell_type": "code",
   "execution_count": 146,
   "id": "d52c2462",
   "metadata": {},
   "outputs": [
    {
     "data": {
      "text/plain": [
       "12"
      ]
     },
     "execution_count": 146,
     "metadata": {},
     "output_type": "execute_result"
    }
   ],
   "source": [
    "l[-len(l)]"
   ]
  },
  {
   "cell_type": "code",
   "execution_count": 147,
   "id": "ee27f9f3",
   "metadata": {},
   "outputs": [
    {
     "data": {
      "text/plain": [
       "78"
      ]
     },
     "execution_count": 147,
     "metadata": {},
     "output_type": "execute_result"
    }
   ],
   "source": [
    "l[-1]"
   ]
  },
  {
   "cell_type": "code",
   "execution_count": 148,
   "id": "b94fdc6f",
   "metadata": {},
   "outputs": [
    {
     "data": {
      "text/plain": [
       "[12, 43, 65, 76, 45, 78, 65, 98, 78]"
      ]
     },
     "execution_count": 148,
     "metadata": {},
     "output_type": "execute_result"
    }
   ],
   "source": [
    "l"
   ]
  },
  {
   "cell_type": "code",
   "execution_count": 150,
   "id": "1bf0ab61",
   "metadata": {},
   "outputs": [
    {
     "data": {
      "text/plain": [
       "2658950519040"
      ]
     },
     "execution_count": 150,
     "metadata": {},
     "output_type": "execute_result"
    }
   ],
   "source": [
    "id(l) #address of list"
   ]
  },
  {
   "cell_type": "code",
   "execution_count": 153,
   "id": "ccd3a616",
   "metadata": {},
   "outputs": [],
   "source": [
    "#changin list items\n",
    "l[0] = 999"
   ]
  },
  {
   "cell_type": "code",
   "execution_count": 154,
   "id": "2eeb9edc",
   "metadata": {},
   "outputs": [
    {
     "data": {
      "text/plain": [
       "[999, 43, 65, 76, 45, 78, 65, 98, 78]"
      ]
     },
     "execution_count": 154,
     "metadata": {},
     "output_type": "execute_result"
    }
   ],
   "source": [
    "l"
   ]
  },
  {
   "cell_type": "code",
   "execution_count": 156,
   "id": "68c5ade4",
   "metadata": {},
   "outputs": [
    {
     "data": {
      "text/plain": [
       "2658950519040"
      ]
     },
     "execution_count": 156,
     "metadata": {},
     "output_type": "execute_result"
    }
   ],
   "source": [
    "id(l) #change is happened on same location"
   ]
  },
  {
   "cell_type": "code",
   "execution_count": 157,
   "id": "4ebaa7f4",
   "metadata": {},
   "outputs": [
    {
     "data": {
      "text/plain": [
       "[999, 43, 65, 76, 45, 78, 65, 98, 78]"
      ]
     },
     "execution_count": 157,
     "metadata": {},
     "output_type": "execute_result"
    }
   ],
   "source": [
    "l"
   ]
  },
  {
   "cell_type": "code",
   "execution_count": 159,
   "id": "03de0997",
   "metadata": {},
   "outputs": [
    {
     "name": "stdout",
     "output_type": "stream",
     "text": [
      "999 43 65 76 45 78 65 98 78 "
     ]
    }
   ],
   "source": [
    "for i in l:\n",
    "    print(i, end=\" \")"
   ]
  },
  {
   "cell_type": "code",
   "execution_count": 160,
   "id": "83b9c242",
   "metadata": {},
   "outputs": [],
   "source": [
    "#list slicing"
   ]
  },
  {
   "cell_type": "code",
   "execution_count": 163,
   "id": "a5a4b75c",
   "metadata": {},
   "outputs": [
    {
     "name": "stdout",
     "output_type": "stream",
     "text": [
      "[999, 43, 65, 76, 45, 78, 65, 98, 78]\n",
      "9\n"
     ]
    }
   ],
   "source": [
    "\n",
    "print(l)\n",
    "print(len(l))"
   ]
  },
  {
   "cell_type": "code",
   "execution_count": 164,
   "id": "d3f08899",
   "metadata": {},
   "outputs": [
    {
     "data": {
      "text/plain": [
       "[999, 43]"
      ]
     },
     "execution_count": 164,
     "metadata": {},
     "output_type": "execute_result"
    }
   ],
   "source": [
    "l[0:2]"
   ]
  },
  {
   "cell_type": "code",
   "execution_count": 165,
   "id": "32c2a19f",
   "metadata": {},
   "outputs": [
    {
     "data": {
      "text/plain": [
       "[999, 43, 65]"
      ]
     },
     "execution_count": 165,
     "metadata": {},
     "output_type": "execute_result"
    }
   ],
   "source": [
    "l[0:3]"
   ]
  },
  {
   "cell_type": "code",
   "execution_count": 166,
   "id": "9e3b6b61",
   "metadata": {},
   "outputs": [
    {
     "data": {
      "text/plain": [
       "[999, 43, 65, 76, 45, 78, 65, 98, 78]"
      ]
     },
     "execution_count": 166,
     "metadata": {},
     "output_type": "execute_result"
    }
   ],
   "source": [
    "l[::]"
   ]
  },
  {
   "cell_type": "code",
   "execution_count": 167,
   "id": "0b626b96",
   "metadata": {},
   "outputs": [
    {
     "data": {
      "text/plain": [
       "[78, 98, 65, 78, 45, 76, 65, 43, 999]"
      ]
     },
     "execution_count": 167,
     "metadata": {},
     "output_type": "execute_result"
    }
   ],
   "source": [
    "l[::-1]"
   ]
  },
  {
   "cell_type": "code",
   "execution_count": 170,
   "id": "2fad604e",
   "metadata": {},
   "outputs": [
    {
     "name": "stdout",
     "output_type": "stream",
     "text": [
      "[9, 7, 5, 3, 1]\n",
      "[1, 3, 5, 7, 9]\n"
     ]
    }
   ],
   "source": [
    "l = [1,2,3,4,5,6,7,8,9]\n",
    "print(l[::-2])  # negative jump of -2\n",
    "print(l[::2])   #positive jump of 2"
   ]
  },
  {
   "cell_type": "code",
   "execution_count": 172,
   "id": "a02daace",
   "metadata": {},
   "outputs": [],
   "source": [
    "#list inbuilt methods\n",
    "#count, remove,sort, insert, append, extend,count\n",
    "budget = [150,200,340,589,450,200]"
   ]
  },
  {
   "cell_type": "code",
   "execution_count": 173,
   "id": "a9ae4e7e",
   "metadata": {},
   "outputs": [
    {
     "data": {
      "text/plain": [
       "2"
      ]
     },
     "execution_count": 173,
     "metadata": {},
     "output_type": "execute_result"
    }
   ],
   "source": [
    "budget.count(200) # it return total number of 200 in list"
   ]
  },
  {
   "cell_type": "code",
   "execution_count": 174,
   "id": "cef0d61d",
   "metadata": {},
   "outputs": [
    {
     "data": {
      "text/plain": [
       "0"
      ]
     },
     "execution_count": 174,
     "metadata": {},
     "output_type": "execute_result"
    }
   ],
   "source": [
    "budget.count(1212) # 1212 not present in list"
   ]
  },
  {
   "cell_type": "code",
   "execution_count": 177,
   "id": "ef95e5a7",
   "metadata": {},
   "outputs": [
    {
     "data": {
      "text/plain": [
       "1"
      ]
     },
     "execution_count": 177,
     "metadata": {},
     "output_type": "execute_result"
    }
   ],
   "source": [
    "budget.index(200) # it return first matching index"
   ]
  },
  {
   "cell_type": "code",
   "execution_count": 195,
   "id": "fbf31228",
   "metadata": {},
   "outputs": [],
   "source": [
    "name = [\"rahul\", \"manoj\", \"shivam\", \"vaibhav\"]\n"
   ]
  },
  {
   "cell_type": "code",
   "execution_count": 182,
   "id": "e0eda6ec",
   "metadata": {},
   "outputs": [
    {
     "data": {
      "text/plain": [
       "450"
      ]
     },
     "execution_count": 182,
     "metadata": {},
     "output_type": "execute_result"
    }
   ],
   "source": [
    "budget.pop()# it remove first item in list"
   ]
  },
  {
   "cell_type": "code",
   "execution_count": 183,
   "id": "d255a248",
   "metadata": {},
   "outputs": [
    {
     "data": {
      "text/plain": [
       "[150, 200, 340, 589]"
      ]
     },
     "execution_count": 183,
     "metadata": {},
     "output_type": "execute_result"
    }
   ],
   "source": [
    "budget"
   ]
  },
  {
   "cell_type": "code",
   "execution_count": 184,
   "id": "e8a8c72b",
   "metadata": {},
   "outputs": [],
   "source": [
    "budget.append(200)"
   ]
  },
  {
   "cell_type": "code",
   "execution_count": 185,
   "id": "38dcfadc",
   "metadata": {},
   "outputs": [],
   "source": [
    "budget.append(450) # added element in list at last index"
   ]
  },
  {
   "cell_type": "code",
   "execution_count": 186,
   "id": "b814444b",
   "metadata": {},
   "outputs": [
    {
     "data": {
      "text/plain": [
       "[150, 200, 340, 589, 200, 450]"
      ]
     },
     "execution_count": 186,
     "metadata": {},
     "output_type": "execute_result"
    }
   ],
   "source": [
    "budget"
   ]
  },
  {
   "cell_type": "code",
   "execution_count": 196,
   "id": "178fa93b",
   "metadata": {},
   "outputs": [
    {
     "data": {
      "text/plain": [
       "['rahul', 'manoj', 'shivam', 'vaibhav']"
      ]
     },
     "execution_count": 196,
     "metadata": {},
     "output_type": "execute_result"
    }
   ],
   "source": [
    "name"
   ]
  },
  {
   "cell_type": "code",
   "execution_count": 197,
   "id": "d41d674e",
   "metadata": {},
   "outputs": [],
   "source": [
    "name.remove(\"shivam\")# using remove can remove particular element in list"
   ]
  },
  {
   "cell_type": "code",
   "execution_count": 198,
   "id": "651df985",
   "metadata": {},
   "outputs": [
    {
     "data": {
      "text/plain": [
       "['rahul', 'manoj', 'vaibhav']"
      ]
     },
     "execution_count": 198,
     "metadata": {},
     "output_type": "execute_result"
    }
   ],
   "source": [
    "name #"
   ]
  },
  {
   "cell_type": "code",
   "execution_count": 199,
   "id": "46af049f",
   "metadata": {},
   "outputs": [
    {
     "data": {
      "text/plain": [
       "[150, 200, 340, 589, 200, 450]"
      ]
     },
     "execution_count": 199,
     "metadata": {},
     "output_type": "execute_result"
    }
   ],
   "source": [
    "budget\n"
   ]
  },
  {
   "cell_type": "code",
   "execution_count": 200,
   "id": "48a14029",
   "metadata": {},
   "outputs": [],
   "source": [
    "budget.sort() # sort in assscending order"
   ]
  },
  {
   "cell_type": "code",
   "execution_count": 201,
   "id": "fba429fe",
   "metadata": {},
   "outputs": [
    {
     "data": {
      "text/plain": [
       "[150, 200, 200, 340, 450, 589]"
      ]
     },
     "execution_count": 201,
     "metadata": {},
     "output_type": "execute_result"
    }
   ],
   "source": [
    "budget"
   ]
  },
  {
   "cell_type": "code",
   "execution_count": 202,
   "id": "4911863a",
   "metadata": {},
   "outputs": [
    {
     "data": {
      "text/plain": [
       "['rahul', 'manoj', 'vaibhav']"
      ]
     },
     "execution_count": 202,
     "metadata": {},
     "output_type": "execute_result"
    }
   ],
   "source": [
    "name"
   ]
  },
  {
   "cell_type": "code",
   "execution_count": 203,
   "id": "62d21e49",
   "metadata": {},
   "outputs": [],
   "source": [
    "name.insert(1,\"Emma\")"
   ]
  },
  {
   "cell_type": "code",
   "execution_count": 204,
   "id": "eef2c624",
   "metadata": {},
   "outputs": [
    {
     "data": {
      "text/plain": [
       "['rahul', 'Emma', 'manoj', 'vaibhav']"
      ]
     },
     "execution_count": 204,
     "metadata": {},
     "output_type": "execute_result"
    }
   ],
   "source": [
    "name"
   ]
  },
  {
   "cell_type": "code",
   "execution_count": 210,
   "id": "ae3cd501",
   "metadata": {},
   "outputs": [
    {
     "name": "stdout",
     "output_type": "stream",
     "text": [
      "[1, 2, 3, 4, 5, [12, 23, 43, 45, 65]]\n"
     ]
    }
   ],
   "source": [
    "l = [1,2,3,4,5]\n",
    "l1 = [12,23,43,45,65]\n",
    "l.append(l1)\n",
    "print(l)   # here append whole list in list\n"
   ]
  },
  {
   "cell_type": "code",
   "execution_count": 211,
   "id": "5a88a888",
   "metadata": {},
   "outputs": [
    {
     "name": "stdout",
     "output_type": "stream",
     "text": [
      "[1, 2, 3, 4, 5, 12, 23, 43, 45, 65]\n"
     ]
    }
   ],
   "source": [
    "l = [1,2,3,4,5]\n",
    "l1 = [12,23,43,45,65]\n",
    "l.extend(l1)\n",
    "print(l)"
   ]
  },
  {
   "cell_type": "code",
   "execution_count": 213,
   "id": "ad496644",
   "metadata": {},
   "outputs": [],
   "source": [
    "#heterogenous list : contents different type of data"
   ]
  },
  {
   "cell_type": "code",
   "execution_count": 215,
   "id": "d5ae5882",
   "metadata": {},
   "outputs": [
    {
     "name": "stdout",
     "output_type": "stream",
     "text": [
      "[2, 'vaib', 3, 2.3, True]\n"
     ]
    }
   ],
   "source": [
    "l = [2,\"vaib\", 3,2.3,True]\n",
    "print(l)"
   ]
  },
  {
   "cell_type": "code",
   "execution_count": 219,
   "id": "5114493b",
   "metadata": {},
   "outputs": [
    {
     "name": "stdout",
     "output_type": "stream",
     "text": [
      "[[1, 2, 3], [4, 5, 6], [7, 8, 9]]\n"
     ]
    }
   ],
   "source": [
    "# 2-D list\n",
    "l = [1,2,3]\n",
    "l1 = [4,5,6]\n",
    "l2 = [7,8,9]\n",
    "\n",
    "ll = [l,l1,l2] # lists in list\n",
    "print(ll)"
   ]
  },
  {
   "cell_type": "code",
   "execution_count": 220,
   "id": "e5f7fb71",
   "metadata": {},
   "outputs": [
    {
     "data": {
      "text/plain": [
       "[7, 8, 9]"
      ]
     },
     "execution_count": 220,
     "metadata": {},
     "output_type": "execute_result"
    }
   ],
   "source": [
    "ll[2]"
   ]
  },
  {
   "cell_type": "code",
   "execution_count": 221,
   "id": "54d785a8",
   "metadata": {},
   "outputs": [
    {
     "data": {
      "text/plain": [
       "[4, 5, 6]"
      ]
     },
     "execution_count": 221,
     "metadata": {},
     "output_type": "execute_result"
    }
   ],
   "source": [
    "ll[1]"
   ]
  },
  {
   "cell_type": "code",
   "execution_count": 222,
   "id": "daccd01c",
   "metadata": {},
   "outputs": [
    {
     "data": {
      "text/plain": [
       "[1, 2, 3]"
      ]
     },
     "execution_count": 222,
     "metadata": {},
     "output_type": "execute_result"
    }
   ],
   "source": [
    "ll[0]"
   ]
  },
  {
   "cell_type": "code",
   "execution_count": 223,
   "id": "0d7ba080",
   "metadata": {},
   "outputs": [
    {
     "data": {
      "text/plain": [
       "[[1, 2, 3]]"
      ]
     },
     "execution_count": 223,
     "metadata": {},
     "output_type": "execute_result"
    }
   ],
   "source": [
    "ll[0:1]"
   ]
  },
  {
   "cell_type": "code",
   "execution_count": 224,
   "id": "0b34c51a",
   "metadata": {},
   "outputs": [
    {
     "data": {
      "text/plain": [
       "[[1, 2, 3], [4, 5, 6]]"
      ]
     },
     "execution_count": 224,
     "metadata": {},
     "output_type": "execute_result"
    }
   ],
   "source": [
    "ll[0:2]"
   ]
  },
  {
   "cell_type": "code",
   "execution_count": 225,
   "id": "bd26e917",
   "metadata": {},
   "outputs": [
    {
     "data": {
      "text/plain": [
       "[[1, 2, 3], [4, 5, 6], [7, 8, 9]]"
      ]
     },
     "execution_count": 225,
     "metadata": {},
     "output_type": "execute_result"
    }
   ],
   "source": [
    "ll"
   ]
  },
  {
   "cell_type": "code",
   "execution_count": 226,
   "id": "38552e60",
   "metadata": {},
   "outputs": [
    {
     "data": {
      "text/plain": [
       "1"
      ]
     },
     "execution_count": 226,
     "metadata": {},
     "output_type": "execute_result"
    }
   ],
   "source": [
    "ll[0][0]"
   ]
  },
  {
   "cell_type": "code",
   "execution_count": 227,
   "id": "94b32d0c",
   "metadata": {},
   "outputs": [
    {
     "data": {
      "text/plain": [
       "4"
      ]
     },
     "execution_count": 227,
     "metadata": {},
     "output_type": "execute_result"
    }
   ],
   "source": [
    "ll[1][0]"
   ]
  },
  {
   "cell_type": "code",
   "execution_count": 229,
   "id": "85074824",
   "metadata": {},
   "outputs": [
    {
     "data": {
      "text/plain": [
       "[[1, 2, 3], [4, 5, 6], [7, 8, 9]]"
      ]
     },
     "execution_count": 229,
     "metadata": {},
     "output_type": "execute_result"
    }
   ],
   "source": [
    "#interation on 2-D list\n",
    "ll"
   ]
  },
  {
   "cell_type": "code",
   "execution_count": 231,
   "id": "0f664af0",
   "metadata": {},
   "outputs": [
    {
     "name": "stdout",
     "output_type": "stream",
     "text": [
      "[1, 2, 3]\n",
      "[4, 5, 6]\n",
      "[7, 8, 9]\n"
     ]
    }
   ],
   "source": [
    "for i in ll:\n",
    "    print(i)"
   ]
  },
  {
   "cell_type": "code",
   "execution_count": 235,
   "id": "655190a9",
   "metadata": {},
   "outputs": [
    {
     "name": "stdout",
     "output_type": "stream",
     "text": [
      "1 2 3 4 5 6 7 8 9 "
     ]
    }
   ],
   "source": [
    "for i in ll:\n",
    "    for j in i:\n",
    "        print(j,end=\" \")"
   ]
  },
  {
   "cell_type": "code",
   "execution_count": 237,
   "id": "e6cd0f6f",
   "metadata": {},
   "outputs": [
    {
     "name": "stdout",
     "output_type": "stream",
     "text": [
      "1 2 3 4 5 6 7 8 9 "
     ]
    }
   ],
   "source": [
    "#list comprehension\n",
    "for i in range(1,10):\n",
    "    print(i,end=\" \")"
   ]
  },
  {
   "cell_type": "code",
   "execution_count": 240,
   "id": "53505e5f",
   "metadata": {},
   "outputs": [
    {
     "name": "stdout",
     "output_type": "stream",
     "text": [
      "[1, 2, 3, 4, 5, 6, 7, 8, 9, 10]\n"
     ]
    }
   ],
   "source": [
    "l = []\n",
    "for i in range(1,11) :\n",
    "    l.append(i)\n",
    "print(l)\n"
   ]
  },
  {
   "cell_type": "code",
   "execution_count": 242,
   "id": "29407645",
   "metadata": {},
   "outputs": [
    {
     "data": {
      "text/plain": [
       "[1, 2, 3, 4, 5, 6, 7, 8, 9, 10]"
      ]
     },
     "execution_count": 242,
     "metadata": {},
     "output_type": "execute_result"
    }
   ],
   "source": [
    "# by using list comprehension\n",
    "l1 = [i for i in range(1,11)]\n",
    "l1"
   ]
  },
  {
   "cell_type": "code",
   "execution_count": 244,
   "id": "713c432b",
   "metadata": {},
   "outputs": [
    {
     "data": {
      "text/plain": [
       "[1, 4, 9, 16, 25, 36, 49, 64, 81, 100]"
      ]
     },
     "execution_count": 244,
     "metadata": {},
     "output_type": "execute_result"
    }
   ],
   "source": [
    "l2 = [(i**2) for i in range(1,11)]\n",
    "l2"
   ]
  },
  {
   "cell_type": "code",
   "execution_count": 251,
   "id": "f7347e03",
   "metadata": {},
   "outputs": [
    {
     "name": "stdout",
     "output_type": "stream",
     "text": [
      "Total population = 87\n"
     ]
    }
   ],
   "source": [
    "\"\"\"given list of population  find total population\n",
    "l = [4,6,5,8,9,3,2,4,5,4,3,2,3,4]\"\"\"\n",
    "\n",
    "l = [4,6,5,8,9,3,2,4,5,4,3,2,3,4]\n",
    "#access all elements in list\n",
    "#sum them up\n",
    "sum = 0\n",
    "for i in l:\n",
    "    sum = sum + l[i]\n",
    "print(f\"Total population = {sum}\")\n"
   ]
  },
  {
   "cell_type": "code",
   "execution_count": 252,
   "id": "1907ddda",
   "metadata": {},
   "outputs": [
    {
     "data": {
      "text/plain": [
       "' like list are also ordered\\nunchangable\\niterable'"
      ]
     },
     "execution_count": 252,
     "metadata": {},
     "output_type": "execute_result"
    }
   ],
   "source": [
    "#Tuples\n",
    "\"\"\" like list are also ordered\n",
    "unchangable\n",
    "iterable\"\"\""
   ]
  },
  {
   "cell_type": "code",
   "execution_count": 253,
   "id": "2f42e928",
   "metadata": {},
   "outputs": [
    {
     "data": {
      "text/plain": [
       "('mercury', 'venus', 'earth', 'Mars', 'Jupiter', 'neptune')"
      ]
     },
     "execution_count": 253,
     "metadata": {},
     "output_type": "execute_result"
    }
   ],
   "source": [
    "t = (\"mercury\", \"venus\", 'earth', \"Mars\", \"Jupiter\", \"neptune\")\n",
    "t"
   ]
  },
  {
   "cell_type": "code",
   "execution_count": 254,
   "id": "69666d3c",
   "metadata": {},
   "outputs": [
    {
     "data": {
      "text/plain": [
       "'mercury'"
      ]
     },
     "execution_count": 254,
     "metadata": {},
     "output_type": "execute_result"
    }
   ],
   "source": [
    "t[0]"
   ]
  },
  {
   "cell_type": "code",
   "execution_count": 255,
   "id": "46232ff6",
   "metadata": {},
   "outputs": [
    {
     "data": {
      "text/plain": [
       "'neptune'"
      ]
     },
     "execution_count": 255,
     "metadata": {},
     "output_type": "execute_result"
    }
   ],
   "source": [
    "t[-1]"
   ]
  },
  {
   "cell_type": "code",
   "execution_count": 256,
   "id": "392129d9",
   "metadata": {},
   "outputs": [
    {
     "data": {
      "text/plain": [
       "('neptune', 'Jupiter', 'Mars', 'earth', 'venus', 'mercury')"
      ]
     },
     "execution_count": 256,
     "metadata": {},
     "output_type": "execute_result"
    }
   ],
   "source": [
    "t[::-1]"
   ]
  },
  {
   "cell_type": "code",
   "execution_count": 257,
   "id": "cb5cd908",
   "metadata": {},
   "outputs": [
    {
     "data": {
      "text/plain": [
       "('venus', 'earth')"
      ]
     },
     "execution_count": 257,
     "metadata": {},
     "output_type": "execute_result"
    }
   ],
   "source": [
    "t[1:3]"
   ]
  },
  {
   "cell_type": "code",
   "execution_count": 258,
   "id": "88d2a0df",
   "metadata": {},
   "outputs": [
    {
     "data": {
      "text/plain": [
       "('rahul', 12, 234.3, True)"
      ]
     },
     "execution_count": 258,
     "metadata": {},
     "output_type": "execute_result"
    }
   ],
   "source": [
    "t = (\"rahul\", 12,234.3, True) #heterogenous\n",
    "t"
   ]
  },
  {
   "cell_type": "code",
   "execution_count": 263,
   "id": "9029e080",
   "metadata": {},
   "outputs": [
    {
     "name": "stdout",
     "output_type": "stream",
     "text": [
      "<class 'tuple'>\n"
     ]
    }
   ],
   "source": [
    "#empy tuple\n",
    "t = ()\n",
    "t1 = tuple()\n",
    "t\n",
    "t1\n",
    "print(type(t))"
   ]
  },
  {
   "cell_type": "code",
   "execution_count": 266,
   "id": "ddc858c5",
   "metadata": {},
   "outputs": [
    {
     "name": "stdout",
     "output_type": "stream",
     "text": [
      "<class 'int'>\n",
      "<class 'tuple'>\n"
     ]
    }
   ],
   "source": [
    "#non empty tuple\n",
    "tt = (2)\n",
    "t = (2,)\n",
    "print(type(tt))\n",
    "print(type(t))"
   ]
  },
  {
   "cell_type": "code",
   "execution_count": 264,
   "id": "ab04e365",
   "metadata": {},
   "outputs": [
    {
     "name": "stdout",
     "output_type": "stream",
     "text": [
      "<class 'tuple'>\n"
     ]
    }
   ],
   "source": [
    "t = (12,3,2,1)\n",
    "print(type(t))"
   ]
  },
  {
   "cell_type": "code",
   "execution_count": 267,
   "id": "a08c82f3",
   "metadata": {},
   "outputs": [
    {
     "data": {
      "text/plain": [
       "('V', 'a', 'i', 'b', 'h', 'a', 'v')"
      ]
     },
     "execution_count": 267,
     "metadata": {},
     "output_type": "execute_result"
    }
   ],
   "source": [
    "t5 = tuple(\"Vaibhav\")\n",
    "t5"
   ]
  },
  {
   "cell_type": "code",
   "execution_count": 269,
   "id": "2e6171ed",
   "metadata": {},
   "outputs": [
    {
     "name": "stdout",
     "output_type": "stream",
     "text": [
      "<class 'tuple'>\n"
     ]
    }
   ],
   "source": [
    "#tuple can have list\n",
    "t6 = ([2,3,32,2,2],[23,23,43,2,3,23])\n",
    "t6\n",
    "print(type(t6))"
   ]
  },
  {
   "cell_type": "code",
   "execution_count": 270,
   "id": "afa417b2",
   "metadata": {},
   "outputs": [
    {
     "data": {
      "text/plain": [
       "(1, 2, 4, 5, 3)"
      ]
     },
     "execution_count": 270,
     "metadata": {},
     "output_type": "execute_result"
    }
   ],
   "source": [
    "#mutability\n",
    "t = (1,2,4,5,3)\n",
    "t"
   ]
  },
  {
   "cell_type": "code",
   "execution_count": 275,
   "id": "ba3fc92c",
   "metadata": {},
   "outputs": [
    {
     "name": "stdout",
     "output_type": "stream",
     "text": [
      "<class 'tuple'>\n",
      "<class 'list'>\n",
      "<class 'str'>\n",
      "([999, 3, 3, 2, 2], 'Vaibhav')\n"
     ]
    }
   ],
   "source": [
    "t = ([21,3,3,2,2],\"Vaibhav\") # tuple are immutable but list are mutable\n",
    "print(type(t))\n",
    "print(type(t[0]))\n",
    "print(type(t[1]))\n",
    "t[0][0] = 999 # can change value of list in tuple\n",
    "print(t)"
   ]
  },
  {
   "cell_type": "code",
   "execution_count": 276,
   "id": "76290cb0",
   "metadata": {},
   "outputs": [
    {
     "name": "stdout",
     "output_type": "stream",
     "text": [
      "1 2 4\n"
     ]
    }
   ],
   "source": [
    "#unpacking tuple\n",
    "a = 1\n",
    "b = 2\n",
    "c = 4\n",
    "print(a,b,c)"
   ]
  },
  {
   "cell_type": "code",
   "execution_count": 277,
   "id": "7e8effa7",
   "metadata": {},
   "outputs": [
    {
     "name": "stdout",
     "output_type": "stream",
     "text": [
      "1 2 4\n"
     ]
    }
   ],
   "source": [
    "a,b,c = 1,2,4\n",
    "print(a,b,c)"
   ]
  },
  {
   "cell_type": "code",
   "execution_count": 281,
   "id": "88b1b7ba",
   "metadata": {},
   "outputs": [],
   "source": [
    "tu = (1,2,4)\n"
   ]
  },
  {
   "cell_type": "code",
   "execution_count": 282,
   "id": "90653933",
   "metadata": {},
   "outputs": [
    {
     "name": "stdout",
     "output_type": "stream",
     "text": [
      "1 2 4\n"
     ]
    }
   ],
   "source": [
    "a,b,c = tu  # this is unpacking\n",
    "print(a,b,c)"
   ]
  },
  {
   "cell_type": "code",
   "execution_count": 289,
   "id": "2871c296",
   "metadata": {},
   "outputs": [
    {
     "name": "stdout",
     "output_type": "stream",
     "text": [
      "<class 'tuple'>\n",
      "4\n",
      "1\n",
      "8\n"
     ]
    }
   ],
   "source": [
    "#tuple operations\n",
    "t = (1,2,3,4,1,2,1,1)\n",
    "print(type(t))\n",
    "print(t.count(1))\n",
    "print(t.index(2))\n",
    "print(len(t))"
   ]
  },
  {
   "cell_type": "code",
   "execution_count": 292,
   "id": "d29ed224",
   "metadata": {},
   "outputs": [
    {
     "name": "stdout",
     "output_type": "stream",
     "text": [
      "1 4 9 16 1 4 1 1 "
     ]
    }
   ],
   "source": [
    "for i in t:\n",
    "    print(i**2,end=\" \")"
   ]
  },
  {
   "cell_type": "code",
   "execution_count": 297,
   "id": "315c8b16",
   "metadata": {},
   "outputs": [
    {
     "name": "stdout",
     "output_type": "stream",
     "text": [
      "(1, 2, 3, 4, 5, 9, 8)\n",
      "(1, 2, 3, 4, 5, 1, 2, 3, 4, 5)\n"
     ]
    }
   ],
   "source": [
    "#Concatanetion (+, *)\n",
    "t = (1,2,3,4,5)\n",
    "t1 = (9,8)\n",
    "t3 = t + t1\n",
    "print(t3)\n",
    "print(t*2)"
   ]
  },
  {
   "cell_type": "code",
   "execution_count": 301,
   "id": "86c7e27c",
   "metadata": {},
   "outputs": [
    {
     "name": "stdout",
     "output_type": "stream",
     "text": [
      "[1, 2, 3, 4, 5]\n",
      "<class 'list'>\n"
     ]
    }
   ],
   "source": [
    "# list to tuple and tuple to list\n",
    "\n",
    "lst = list(t)\n",
    "print(lst)\n",
    "print(type(lst))"
   ]
  },
  {
   "cell_type": "code",
   "execution_count": 302,
   "id": "0a4bb1da",
   "metadata": {},
   "outputs": [
    {
     "name": "stdout",
     "output_type": "stream",
     "text": [
      "(1, 2, 3, 4, 5)\n",
      "<class 'tuple'>\n"
     ]
    }
   ],
   "source": [
    "tpl = tuple(lst)\n",
    "print(tpl)\n",
    "print(type(tpl))"
   ]
  },
  {
   "cell_type": "code",
   "execution_count": 303,
   "id": "28028195",
   "metadata": {},
   "outputs": [
    {
     "data": {
      "text/plain": [
       "' has key value pair data\\n  dictionary are ordered data\\n  does not support indexing'"
      ]
     },
     "execution_count": 303,
     "metadata": {},
     "output_type": "execute_result"
    }
   ],
   "source": [
    "#dictionary \n",
    "\"\"\" has key value pair data\n",
    "  dictionary are ordered data\n",
    "  does not support indexing\"\"\""
   ]
  },
  {
   "cell_type": "code",
   "execution_count": 306,
   "id": "5dc002cd",
   "metadata": {},
   "outputs": [
    {
     "name": "stdout",
     "output_type": "stream",
     "text": [
      "<class 'dict'>\n",
      "{}\n"
     ]
    }
   ],
   "source": [
    "d ={}\n",
    "print(type(d))\n",
    "print(d)"
   ]
  },
  {
   "cell_type": "code",
   "execution_count": 307,
   "id": "9be994ea",
   "metadata": {},
   "outputs": [],
   "source": [
    "fruits = {\n",
    "    \"Apple\" : 120, \n",
    "    \"banana\" : 100,\n",
    "    \"mango\" : 400\n",
    "}"
   ]
  },
  {
   "cell_type": "code",
   "execution_count": 308,
   "id": "afabe604",
   "metadata": {},
   "outputs": [
    {
     "name": "stdout",
     "output_type": "stream",
     "text": [
      "{'Apple': 120, 'banana': 100, 'mango': 400}\n"
     ]
    }
   ],
   "source": [
    "print(fruits)"
   ]
  },
  {
   "cell_type": "code",
   "execution_count": 309,
   "id": "efe362f4",
   "metadata": {},
   "outputs": [
    {
     "name": "stdout",
     "output_type": "stream",
     "text": [
      "Apple\n",
      "banana\n",
      "mango\n"
     ]
    }
   ],
   "source": [
    "for i in fruits:\n",
    "    print(i)"
   ]
  },
  {
   "cell_type": "code",
   "execution_count": 310,
   "id": "dffddfcc",
   "metadata": {},
   "outputs": [
    {
     "name": "stdout",
     "output_type": "stream",
     "text": [
      "120\n",
      "100\n",
      "400\n"
     ]
    }
   ],
   "source": [
    "for i in fruits:\n",
    "    print(fruits[i])"
   ]
  },
  {
   "cell_type": "code",
   "execution_count": 313,
   "id": "bc14f585",
   "metadata": {},
   "outputs": [
    {
     "name": "stdout",
     "output_type": "stream",
     "text": [
      "{'appple': 120, 'bananaa': 134, 'mangoo': 500}\n",
      "3\n"
     ]
    }
   ],
   "source": [
    "#dictionary from two lists\n",
    "name = [\"appple\", \"bananaa\", \"mangoo\"]\n",
    "price = [120,134,500]\n",
    "fruit = dict(zip(name,price))\n",
    "print(fruit)\n",
    "print(len(fruit))"
   ]
  },
  {
   "cell_type": "code",
   "execution_count": 314,
   "id": "7dc66c91",
   "metadata": {},
   "outputs": [
    {
     "data": {
      "text/plain": [
       "{'appple': 120, 'bananaa': 134, 'mangoo': 500}"
      ]
     },
     "execution_count": 314,
     "metadata": {},
     "output_type": "execute_result"
    }
   ],
   "source": [
    "#accesing elements\n",
    "fruit\n"
   ]
  },
  {
   "cell_type": "code",
   "execution_count": 315,
   "id": "33bb41dd",
   "metadata": {},
   "outputs": [
    {
     "data": {
      "text/plain": [
       "120"
      ]
     },
     "execution_count": 315,
     "metadata": {},
     "output_type": "execute_result"
    }
   ],
   "source": [
    "fruit[\"appple\"]"
   ]
  },
  {
   "cell_type": "code",
   "execution_count": 316,
   "id": "8528ae4a",
   "metadata": {},
   "outputs": [
    {
     "data": {
      "text/plain": [
       "134"
      ]
     },
     "execution_count": 316,
     "metadata": {},
     "output_type": "execute_result"
    }
   ],
   "source": [
    "fruit.get(\"bananaa\")"
   ]
  },
  {
   "cell_type": "code",
   "execution_count": 318,
   "id": "b6c317f9",
   "metadata": {},
   "outputs": [
    {
     "data": {
      "text/plain": [
       "'not available'"
      ]
     },
     "execution_count": 318,
     "metadata": {},
     "output_type": "execute_result"
    }
   ],
   "source": [
    "fruit.get(\"peru\", \"not available\") # if element not present in\n",
    "#dicitonary it return given statement"
   ]
  },
  {
   "cell_type": "code",
   "execution_count": 319,
   "id": "101c4833",
   "metadata": {},
   "outputs": [
    {
     "data": {
      "text/plain": [
       "{'appple': 120, 'bananaa': 134, 'mangoo': 500}"
      ]
     },
     "execution_count": 319,
     "metadata": {},
     "output_type": "execute_result"
    }
   ],
   "source": [
    "fruit"
   ]
  },
  {
   "cell_type": "code",
   "execution_count": 320,
   "id": "f2851407",
   "metadata": {},
   "outputs": [],
   "source": [
    "fruit[\"bananaa\"] = {\"small\" : 90, \"large\" : 1220}"
   ]
  },
  {
   "cell_type": "code",
   "execution_count": 321,
   "id": "140fc0ef",
   "metadata": {},
   "outputs": [
    {
     "data": {
      "text/plain": [
       "{'appple': 120, 'bananaa': {'small': 90, 'large': 1220}, 'mangoo': 500}"
      ]
     },
     "execution_count": 321,
     "metadata": {},
     "output_type": "execute_result"
    }
   ],
   "source": [
    "fruit"
   ]
  },
  {
   "cell_type": "code",
   "execution_count": 322,
   "id": "19826782",
   "metadata": {},
   "outputs": [],
   "source": [
    "fruit[\"guava\"] = 300 #added ne key pair"
   ]
  },
  {
   "cell_type": "code",
   "execution_count": 323,
   "id": "709cc5fc",
   "metadata": {},
   "outputs": [
    {
     "data": {
      "text/plain": [
       "{'appple': 120,\n",
       " 'bananaa': {'small': 90, 'large': 1220},\n",
       " 'mangoo': 500,\n",
       " 'guava': 300}"
      ]
     },
     "execution_count": 323,
     "metadata": {},
     "output_type": "execute_result"
    }
   ],
   "source": [
    "fruit"
   ]
  },
  {
   "cell_type": "code",
   "execution_count": 324,
   "id": "c6c0a037",
   "metadata": {},
   "outputs": [],
   "source": [
    "new = {\"grapes\" : 190, \"orange\" : 453, \"jamun\" : 400}"
   ]
  },
  {
   "cell_type": "code",
   "execution_count": 325,
   "id": "85019889",
   "metadata": {},
   "outputs": [
    {
     "data": {
      "text/plain": [
       "{'appple': 120,\n",
       " 'bananaa': {'small': 90, 'large': 1220},\n",
       " 'mangoo': 500,\n",
       " 'guava': 300}"
      ]
     },
     "execution_count": 325,
     "metadata": {},
     "output_type": "execute_result"
    }
   ],
   "source": [
    "fruit"
   ]
  },
  {
   "cell_type": "code",
   "execution_count": 326,
   "id": "d80b1974",
   "metadata": {},
   "outputs": [],
   "source": [
    "fruit.update(new) # adds multiple key-value pairs in dictionary"
   ]
  },
  {
   "cell_type": "code",
   "execution_count": 327,
   "id": "a69f47a2",
   "metadata": {},
   "outputs": [
    {
     "data": {
      "text/plain": [
       "{'appple': 120,\n",
       " 'bananaa': {'small': 90, 'large': 1220},\n",
       " 'mangoo': 500,\n",
       " 'guava': 300,\n",
       " 'grapes': 190,\n",
       " 'orange': 453,\n",
       " 'jamun': 400}"
      ]
     },
     "execution_count": 327,
     "metadata": {},
     "output_type": "execute_result"
    }
   ],
   "source": [
    "fruit"
   ]
  },
  {
   "cell_type": "code",
   "execution_count": 328,
   "id": "ec788365",
   "metadata": {},
   "outputs": [
    {
     "data": {
      "text/plain": [
       "{'appple': 120,\n",
       " 'bananaa': {'small': 90, 'large': 1220},\n",
       " 'mangoo': 500,\n",
       " 'guava': 300,\n",
       " 'grapes': 190,\n",
       " 'orange': 453,\n",
       " 'jamun': 400}"
      ]
     },
     "execution_count": 328,
     "metadata": {},
     "output_type": "execute_result"
    }
   ],
   "source": [
    "#deletion in dictionary\n",
    "fruit"
   ]
  },
  {
   "cell_type": "code",
   "execution_count": 329,
   "id": "0595bd7e",
   "metadata": {},
   "outputs": [
    {
     "data": {
      "text/plain": [
       "True"
      ]
     },
     "execution_count": 329,
     "metadata": {},
     "output_type": "execute_result"
    }
   ],
   "source": [
    "\"appple\" in fruit"
   ]
  },
  {
   "cell_type": "code",
   "execution_count": 330,
   "id": "5c1a1149",
   "metadata": {},
   "outputs": [
    {
     "data": {
      "text/plain": [
       "{'Apple': 120, 'banana': 100, 'mango': 400}"
      ]
     },
     "execution_count": 330,
     "metadata": {},
     "output_type": "execute_result"
    }
   ],
   "source": [
    "fruits"
   ]
  },
  {
   "cell_type": "code",
   "execution_count": 331,
   "id": "d86a0400",
   "metadata": {},
   "outputs": [
    {
     "data": {
      "text/plain": [
       "120"
      ]
     },
     "execution_count": 331,
     "metadata": {},
     "output_type": "execute_result"
    }
   ],
   "source": [
    "fruits.pop(\"Apple\") # Apple removed from list"
   ]
  },
  {
   "cell_type": "code",
   "execution_count": 332,
   "id": "bc6b057a",
   "metadata": {},
   "outputs": [
    {
     "data": {
      "text/plain": [
       "{'banana': 100, 'mango': 400}"
      ]
     },
     "execution_count": 332,
     "metadata": {},
     "output_type": "execute_result"
    }
   ],
   "source": [
    "fruits"
   ]
  },
  {
   "cell_type": "code",
   "execution_count": 333,
   "id": "4f93dcf6",
   "metadata": {},
   "outputs": [
    {
     "data": {
      "text/plain": [
       "('mango', 400)"
      ]
     },
     "execution_count": 333,
     "metadata": {},
     "output_type": "execute_result"
    }
   ],
   "source": [
    "fruits.popitem()#deletes last item"
   ]
  },
  {
   "cell_type": "code",
   "execution_count": 338,
   "id": "725e539e",
   "metadata": {},
   "outputs": [],
   "source": [
    "fruits = {'Apple': 120, 'banana': 100, 'mango': 400}"
   ]
  },
  {
   "cell_type": "code",
   "execution_count": 339,
   "id": "73e22e99",
   "metadata": {},
   "outputs": [],
   "source": [
    "del fruits # whole fruits dicitonary deleted"
   ]
  },
  {
   "cell_type": "code",
   "execution_count": 340,
   "id": "e9567283",
   "metadata": {},
   "outputs": [],
   "source": [
    "#interaion dicctionary"
   ]
  },
  {
   "cell_type": "code",
   "execution_count": 341,
   "id": "c8e43c14",
   "metadata": {},
   "outputs": [],
   "source": [
    "fruits = {'Apple': 120, 'banana': 100, 'mango': 400}"
   ]
  },
  {
   "cell_type": "code",
   "execution_count": 343,
   "id": "b9d3c719",
   "metadata": {},
   "outputs": [
    {
     "name": "stdout",
     "output_type": "stream",
     "text": [
      "Apple\n",
      "banana\n",
      "mango\n"
     ]
    }
   ],
   "source": [
    "for i in fruits:\n",
    "    print(i)"
   ]
  },
  {
   "cell_type": "code",
   "execution_count": 344,
   "id": "d970e184",
   "metadata": {},
   "outputs": [
    {
     "name": "stdout",
     "output_type": "stream",
     "text": [
      "Apple 120\n",
      "banana 100\n",
      "mango 400\n"
     ]
    }
   ],
   "source": [
    "for i,j in fruits.items():\n",
    "    print(i,j)"
   ]
  },
  {
   "cell_type": "code",
   "execution_count": 345,
   "id": "48daf39a",
   "metadata": {},
   "outputs": [
    {
     "data": {
      "text/plain": [
       "dict_keys(['Apple', 'banana', 'mango'])"
      ]
     },
     "execution_count": 345,
     "metadata": {},
     "output_type": "execute_result"
    }
   ],
   "source": [
    "fruits.keys()"
   ]
  },
  {
   "cell_type": "code",
   "execution_count": 346,
   "id": "d6d6a77e",
   "metadata": {},
   "outputs": [
    {
     "data": {
      "text/plain": [
       "dict_values([120, 100, 400])"
      ]
     },
     "execution_count": 346,
     "metadata": {},
     "output_type": "execute_result"
    }
   ],
   "source": [
    "fruits.values()"
   ]
  },
  {
   "cell_type": "code",
   "execution_count": 347,
   "id": "49e05521",
   "metadata": {},
   "outputs": [
    {
     "data": {
      "text/plain": [
       "dict_items([('Apple', 120), ('banana', 100), ('mango', 400)])"
      ]
     },
     "execution_count": 347,
     "metadata": {},
     "output_type": "execute_result"
    }
   ],
   "source": [
    "fruits.items()"
   ]
  },
  {
   "cell_type": "code",
   "execution_count": 350,
   "id": "a29c3ea6",
   "metadata": {},
   "outputs": [],
   "source": [
    "#Frequency of character \n",
    "#ex. \"vaibhav narsinge\"\n",
    "name = input()\n"
   ]
  },
  {
   "cell_type": "code",
   "execution_count": 352,
   "id": "f07beb32",
   "metadata": {},
   "outputs": [
    {
     "name": "stdout",
     "output_type": "stream",
     "text": [
      "vaibhav narsinge\n"
     ]
    }
   ],
   "source": [
    "print(name)"
   ]
  },
  {
   "cell_type": "code",
   "execution_count": 354,
   "id": "af083877",
   "metadata": {},
   "outputs": [
    {
     "name": "stdout",
     "output_type": "stream",
     "text": [
      "v\n",
      "a\n",
      "i\n",
      "b\n",
      "h\n",
      "a\n",
      "v\n",
      " \n",
      "n\n",
      "a\n",
      "r\n",
      "s\n",
      "i\n",
      "n\n",
      "g\n",
      "e\n"
     ]
    }
   ],
   "source": [
    "for i in name:\n",
    "    print(i)"
   ]
  },
  {
   "cell_type": "code",
   "execution_count": 355,
   "id": "1acd53ae",
   "metadata": {},
   "outputs": [
    {
     "name": "stdout",
     "output_type": "stream",
     "text": [
      "{'v': 2, 'a': 3, 'i': 2, 'b': 1, 'h': 1, ' ': 1, 'n': 2, 'r': 1, 's': 1, 'g': 1, 'e': 1}\n"
     ]
    }
   ],
   "source": [
    "fre = {}\n",
    "for i in name:\n",
    "    if i not in fre:  #check presence\n",
    "        fre[i] = 1 \n",
    "    else:               # if present then increment by 1\n",
    "        fre[i] += 1\n",
    "print(fre)"
   ]
  },
  {
   "cell_type": "code",
   "execution_count": 1,
   "id": "fb2b53ad",
   "metadata": {},
   "outputs": [
    {
     "data": {
      "text/plain": [
       "'unique collection\\n    unorderred\\n    unindexed\\n    mutable'"
      ]
     },
     "execution_count": 1,
     "metadata": {},
     "output_type": "execute_result"
    }
   ],
   "source": [
    "#Set\n",
    "\"\"\"unique collection\n",
    "    unorderred\n",
    "    unindexed\n",
    "    mutable\"\"\""
   ]
  },
  {
   "cell_type": "code",
   "execution_count": 5,
   "id": "80e66d23",
   "metadata": {},
   "outputs": [
    {
     "name": "stdout",
     "output_type": "stream",
     "text": [
      "[1, 2, 3, 4, 2, 3, 1, 4, 5, 6, 54, 6, 4]\n",
      "{1, 2, 3, 4, 5}\n",
      "{1, 2, 3, 4, 5, 6, 54}\n"
     ]
    }
   ],
   "source": [
    "lst = [1,2,3,4,2,3,1,4,5,6,54,6,4]\n",
    "st =  {1,2,3,5,4,2,5,3,2,4,2,5,2}\n",
    "print(lst)\n",
    "print(st) # set removes duplicate elements\n",
    "st1 = set(lst)  # list to set conversion\n",
    "print(st1)"
   ]
  },
  {
   "cell_type": "code",
   "execution_count": 6,
   "id": "2131d737",
   "metadata": {},
   "outputs": [
    {
     "data": {
      "text/plain": [
       "{1, 2, 3, 4, 5}"
      ]
     },
     "execution_count": 6,
     "metadata": {},
     "output_type": "execute_result"
    }
   ],
   "source": [
    "st"
   ]
  },
  {
   "cell_type": "code",
   "execution_count": 8,
   "id": "2785f274",
   "metadata": {},
   "outputs": [
    {
     "name": "stdout",
     "output_type": "stream",
     "text": [
      "1 2 3 4 5 "
     ]
    }
   ],
   "source": [
    "for i in st:\n",
    "    print(i, end =\" \")"
   ]
  },
  {
   "cell_type": "code",
   "execution_count": 10,
   "id": "288b5975",
   "metadata": {},
   "outputs": [
    {
     "name": "stdout",
     "output_type": "stream",
     "text": [
      "{'i', 'v', 'h', 'a', 'b'}\n"
     ]
    }
   ],
   "source": [
    "s = set(\"vaibhav\")\n",
    "print(s)  # set stores unorder values"
   ]
  },
  {
   "cell_type": "code",
   "execution_count": 11,
   "id": "5d2db19d",
   "metadata": {},
   "outputs": [],
   "source": [
    "#uppdate and deleting values in set\n",
    "s = {1,2,3,4,5,6,7,3,4,5,6}"
   ]
  },
  {
   "cell_type": "code",
   "execution_count": 13,
   "id": "db4d8e4e",
   "metadata": {},
   "outputs": [
    {
     "name": "stdout",
     "output_type": "stream",
     "text": [
      "{1, 2, 3, 4, 5, 6, 7, 99}\n"
     ]
    }
   ],
   "source": [
    "s.add(99)\n",
    "print(s)"
   ]
  },
  {
   "cell_type": "code",
   "execution_count": 14,
   "id": "634edf38",
   "metadata": {},
   "outputs": [
    {
     "data": {
      "text/plain": [
       "{1, 2, 3, 4, 5, 6, 7, 99}"
      ]
     },
     "execution_count": 14,
     "metadata": {},
     "output_type": "execute_result"
    }
   ],
   "source": [
    "s"
   ]
  },
  {
   "cell_type": "code",
   "execution_count": 17,
   "id": "b9556d23",
   "metadata": {},
   "outputs": [],
   "source": [
    "name = \"vaibhav\"\n",
    "s.update(name)"
   ]
  },
  {
   "cell_type": "code",
   "execution_count": 16,
   "id": "4df46f68",
   "metadata": {},
   "outputs": [
    {
     "data": {
      "text/plain": [
       "{1, 2, 3, 4, 5, 6, 7, 99, 'V', 'a', 'b', 'h', 'i', 'v'}"
      ]
     },
     "execution_count": 16,
     "metadata": {},
     "output_type": "execute_result"
    }
   ],
   "source": [
    "s"
   ]
  },
  {
   "cell_type": "code",
   "execution_count": 18,
   "id": "2c2ec8be",
   "metadata": {},
   "outputs": [
    {
     "data": {
      "text/plain": [
       "1"
      ]
     },
     "execution_count": 18,
     "metadata": {},
     "output_type": "execute_result"
    }
   ],
   "source": [
    "s.pop() #it randomaly remove elements"
   ]
  },
  {
   "cell_type": "code",
   "execution_count": 19,
   "id": "42add7c6",
   "metadata": {},
   "outputs": [
    {
     "data": {
      "text/plain": [
       "{2, 3, 4, 5, 6, 7, 99, 'V', 'a', 'b', 'h', 'i', 'v'}"
      ]
     },
     "execution_count": 19,
     "metadata": {},
     "output_type": "execute_result"
    }
   ],
   "source": [
    "s"
   ]
  },
  {
   "cell_type": "code",
   "execution_count": 20,
   "id": "b2268191",
   "metadata": {},
   "outputs": [],
   "source": [
    "#for removing particular value\n",
    "s.remove(2)"
   ]
  },
  {
   "cell_type": "code",
   "execution_count": 21,
   "id": "764c8b4d",
   "metadata": {},
   "outputs": [
    {
     "data": {
      "text/plain": [
       "{3, 4, 5, 6, 7, 99, 'V', 'a', 'b', 'h', 'i', 'v'}"
      ]
     },
     "execution_count": 21,
     "metadata": {},
     "output_type": "execute_result"
    }
   ],
   "source": [
    "s"
   ]
  },
  {
   "cell_type": "code",
   "execution_count": 24,
   "id": "3de7a624",
   "metadata": {},
   "outputs": [
    {
     "name": "stdout",
     "output_type": "stream",
     "text": [
      "{1, 3, 4}\n"
     ]
    }
   ],
   "source": [
    "#intersection\n",
    "s1 = {1,3,4,5,6,4,3}\n",
    "s2 = {45,56,3,1,2,44,45,23,2,3,4}\n",
    "a = s1.intersection(s2) # gives common elements from both set\n",
    "print(a)"
   ]
  },
  {
   "cell_type": "code",
   "execution_count": 26,
   "id": "51c239a8",
   "metadata": {},
   "outputs": [
    {
     "name": "stdout",
     "output_type": "stream",
     "text": [
      "{1, 2, 3, 4, 5, 6, 44, 45, 23, 56}\n"
     ]
    }
   ],
   "source": [
    "#union\n",
    "s1 = {1,3,4,5,6,4,3}\n",
    "s2 = {45,56,3,1,2,44,45,23,2,3,4}\n",
    "a = s1.union(s2)# it combine all unique elements from oth set\n",
    "print(a) "
   ]
  },
  {
   "cell_type": "code",
   "execution_count": 30,
   "id": "3c5ed5d7",
   "metadata": {},
   "outputs": [
    {
     "name": "stdout",
     "output_type": "stream",
     "text": [
      "{5, 6}\n",
      "{2, 44, 45, 23, 56}\n"
     ]
    }
   ],
   "source": [
    "#difference\n",
    "s1 = {1,3,4,5,6,4,3}\n",
    "s2 = {45,56,3,1,2,44,45,23,2,3,4}\n",
    "#it will not include elements common in both\n",
    "a = s1.difference(s2) # it return element which present only in s1 not in s2\n",
    "b = s2.difference(s1) # it return element which not in s1 but in s2\n",
    "print(a)\n",
    "print(b)"
   ]
  },
  {
   "cell_type": "code",
   "execution_count": 34,
   "id": "a2e4434f",
   "metadata": {},
   "outputs": [
    {
     "name": "stdout",
     "output_type": "stream",
     "text": [
      "{'change', 'wish', 'you', 'see', 'world', 'to', 'the', 'be', 'in'}\n",
      "9\n"
     ]
    }
   ],
   "source": [
    "\n",
    "sent = \"be the change you in wish to see the in the world\"\n",
    "lst = sent.split()\n",
    "s = set(lst)\n",
    "print(s)\n",
    "print(len(s))"
   ]
  },
  {
   "cell_type": "code",
   "execution_count": 37,
   "id": "20b64b2d",
   "metadata": {},
   "outputs": [
    {
     "data": {
      "text/plain": [
       "'Helps in reusability of code\\n    Make code managable and organized\\n    \\n    functions are of two types\\n    1. User defined\\n    2. Built in\\n    \\n'"
      ]
     },
     "execution_count": 37,
     "metadata": {},
     "output_type": "execute_result"
    }
   ],
   "source": [
    "#function\n",
    "\"\"\" \n",
    "Functoion is a user defined piece of code. \n",
    "it works only when it called by user. it helps \n",
    "in reusability of code and helpd reducing errors\n",
    "\n",
    "\"\"\"\n",
    "\n",
    "\"\"\"\n",
    "    Helps in reusability of code\n",
    "    Make code managable and organized\n",
    "    \n",
    "    functions are of two types\n",
    "    1. User defined\n",
    "    2. Built in\n",
    "    \n",
    "\"\"\""
   ]
  },
  {
   "cell_type": "code",
   "execution_count": 39,
   "id": "37847c03",
   "metadata": {},
   "outputs": [
    {
     "data": {
      "text/plain": [
       "'\\nSyntax: \\n            def functionName(___):\\n                __________________\\n                _________________\\n'"
      ]
     },
     "execution_count": 39,
     "metadata": {},
     "output_type": "execute_result"
    }
   ],
   "source": [
    "\"\"\"\n",
    "Syntax: \n",
    "            def functionName(___):\n",
    "                __________________\n",
    "                _________________\n",
    "\"\"\""
   ]
  },
  {
   "cell_type": "code",
   "execution_count": 42,
   "id": "39ff3a33",
   "metadata": {},
   "outputs": [
    {
     "name": "stdout",
     "output_type": "stream",
     "text": [
      "Hey.:) good morning\n",
      "None\n",
      "<class 'function'>\n"
     ]
    }
   ],
   "source": [
    "#defining function\n",
    "def greet():\n",
    "    # this is body of function\n",
    "    print(\"Hey.:) good morning\")\n",
    "\n",
    "print(greet())\n",
    "print(type(greet))"
   ]
  },
  {
   "cell_type": "code",
   "execution_count": null,
   "id": "b7429ceb",
   "metadata": {},
   "outputs": [],
   "source": []
  }
 ],
 "metadata": {
  "kernelspec": {
   "display_name": "Python 3 (ipykernel)",
   "language": "python",
   "name": "python3"
  },
  "language_info": {
   "codemirror_mode": {
    "name": "ipython",
    "version": 3
   },
   "file_extension": ".py",
   "mimetype": "text/x-python",
   "name": "python",
   "nbconvert_exporter": "python",
   "pygments_lexer": "ipython3",
   "version": "3.11.4"
  }
 },
 "nbformat": 4,
 "nbformat_minor": 5
}
