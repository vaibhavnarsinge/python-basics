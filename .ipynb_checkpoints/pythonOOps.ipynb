{
 "cells": [
  {
   "cell_type": "code",
   "execution_count": null,
   "metadata": {},
   "outputs": [],
   "source": [
    "#function\n",
    "\"\"\" \n",
    "Functoion is a user defined piece of code. \n",
    "it works only when it called by user. it helps \n",
    "in reusability of code and helpd reducing errors\n",
    "\n",
    "\"\"\"\n",
    "\n",
    "\"\"\"\n",
    "    Helps in reusability of code\n",
    "    Make code managable and organized\n",
    "    \n",
    "    functions are of two types\n",
    "    1. User defined\n",
    "    2. Built in\n",
    "    \n",
    "\"\"\""
   ]
  },
  {
   "cell_type": "code",
   "execution_count": null,
   "metadata": {},
   "outputs": [],
   "source": [
    "\"\"\"\n",
    "Syntax: \n",
    "            def functionName(___):\n",
    "                __________________\n",
    "                _________________\n",
    "\"\"\""
   ]
  },
  {
   "cell_type": "code",
   "execution_count": null,
   "metadata": {},
   "outputs": [],
   "source": [
    "#defining function\n",
    "def greet():\n",
    "    # this is body of function\n",
    "    print(\"Hey.:) good morning\")\n",
    "\n",
    "print(greet())\n",
    "print(type(greet))"
   ]
  },
  {
   "cell_type": "code",
   "execution_count": 3,
   "metadata": {},
   "outputs": [
    {
     "name": "stdout",
     "output_type": "stream",
     "text": [
      "Hey.:) good morning\n"
     ]
    }
   ],
   "source": [
    "#Docstring\n",
    "def greet():\n",
    "    \"\"\" \n",
    "        this function greets everyone when it call\n",
    "        #this is docstring which give information about function\n",
    "    \"\"\"\n",
    "    print(\"Hey.:) good morning\")\n",
    "\n",
    "greet()\n"
   ]
  },
  {
   "cell_type": "code",
   "execution_count": 8,
   "metadata": {},
   "outputs": [
    {
     "name": "stdout",
     "output_type": "stream",
     "text": [
      "Hey.:) good morning Vaibhav\n",
      "Hey.:) good morning Rahul\n",
      "Hey.:) good morning Shivam\n",
      "Hey.:) good morning navjeevan\n"
     ]
    }
   ],
   "source": [
    "def greet(name):  # function contains parameter\n",
    "    print(\"Hey.:) good morning\",name)\n",
    "\n",
    "greet(\"Vaibhav\")  #fucntion calling contains argument\n",
    "greet(\"Rahul\")\n",
    "greet(\"Shivam\")\n",
    "greet(\"navjeevan\")\n"
   ]
  },
  {
   "cell_type": "code",
   "execution_count": 9,
   "metadata": {},
   "outputs": [
    {
     "name": "stdout",
     "output_type": "stream",
     "text": [
      "Addition =  35\n"
     ]
    }
   ],
   "source": [
    "def add(a,b):\n",
    "    c = a + b\n",
    "    print(\"Addition = \",c)\n",
    "\n",
    "add(12,23)"
   ]
  },
  {
   "cell_type": "code",
   "execution_count": 10,
   "metadata": {},
   "outputs": [
    {
     "data": {
      "text/plain": [
       "'\\n    a fucntion call ends when reurn statement executed\\n    it return the expression back to the fucntion\\n    the code after return statement are not executed\\n    if there is no return value then fucntion return none\\n'"
      ]
     },
     "execution_count": 10,
     "metadata": {},
     "output_type": "execute_result"
    }
   ],
   "source": [
    "#return statement\n",
    "\"\"\"\n",
    "    a fucntion call ends when reurn statement executed\n",
    "    it return the expression back to the fucntion\n",
    "    the code after return statement are not executed\n",
    "    if there is no return value then fucntion return none\n",
    "\"\"\""
   ]
  },
  {
   "cell_type": "code",
   "execution_count": 11,
   "metadata": {},
   "outputs": [
    {
     "name": "stdout",
     "output_type": "stream",
     "text": [
      "36\n",
      "<class 'int'>\n"
     ]
    }
   ],
   "source": [
    "def add(a,b):\n",
    "    c = a + b\n",
    "    return c\n",
    "\n",
    "b = add(32,4)\n",
    "print(b)\n",
    "print(type(b))"
   ]
  },
  {
   "cell_type": "code",
   "execution_count": 13,
   "metadata": {},
   "outputs": [
    {
     "name": "stdout",
     "output_type": "stream",
     "text": [
      "None\n",
      "<class 'NoneType'>\n"
     ]
    }
   ],
   "source": [
    "#if no return objet then it return noneType\n",
    "def fun():\n",
    "    return\n",
    "c = fun()\n",
    "print(c)\n",
    "print(type(c))"
   ]
  },
  {
   "cell_type": "code",
   "execution_count": 25,
   "metadata": {},
   "outputs": [
    {
     "name": "stdout",
     "output_type": "stream",
     "text": [
      "Before return ::::\n"
     ]
    },
    {
     "data": {
      "text/plain": [
       "'Vaibhav'"
      ]
     },
     "execution_count": 25,
     "metadata": {},
     "output_type": "execute_result"
    }
   ],
   "source": [
    "#code after return doesn.t executed\n",
    "def func():\n",
    "    print(\"Before return ::::\")\n",
    "    return \"Vaibhav\"\n",
    "    print(\"After return::::\") # this line will not be execute\n",
    "\n",
    "func()"
   ]
  },
  {
   "cell_type": "code",
   "execution_count": 35,
   "metadata": {},
   "outputs": [
    {
     "name": "stdout",
     "output_type": "stream",
     "text": [
      "('Vaibhav', 23, 'Cricket')\n",
      "Vaibhav 23 Cricket\n",
      "Vaibhav\n",
      "23\n",
      "Cricket\n"
     ]
    }
   ],
   "source": [
    "#returning multiple values\n",
    "def intro(name,age,hobby):\n",
    "    return name,age,hobby\n",
    "\n",
    "a, b, c = intro(\"Vaibhav\",23,\"Cricket\")\n",
    "v = intro(\"Vaibhav\",23,\"Cricket\")\n",
    "print(v)  # it return value in form of tuples\n",
    "print(a,b,c)\n",
    "print(a)\n",
    "print(b)\n",
    "print(c)"
   ]
  },
  {
   "cell_type": "code",
   "execution_count": 36,
   "metadata": {},
   "outputs": [
    {
     "data": {
      "text/plain": [
       "'\\n    there are two scopes  : global and local\\n    global variable can be used anywhere in a proram\\n    local varuable can only be ised inside the program(funciton)\\n'"
      ]
     },
     "execution_count": 36,
     "metadata": {},
     "output_type": "execute_result"
    }
   ],
   "source": [
    "#Scope of variable\n",
    "\"\"\"\n",
    "    there are two scopes  : global and local\n",
    "    global variable can be used anywhere in a proram\n",
    "    local varuable can only be ised inside the program(funciton)\n",
    "\"\"\""
   ]
  },
  {
   "cell_type": "code",
   "execution_count": 40,
   "metadata": {},
   "outputs": [
    {
     "name": "stdout",
     "output_type": "stream",
     "text": [
      "5\n",
      "5\n"
     ]
    }
   ],
   "source": [
    "#global variable\n",
    "\n",
    "a = 5  #here a is global variable\n",
    "def fucn():\n",
    "    print(a)\n",
    "\n",
    "fucn()\n",
    "print(a)"
   ]
  },
  {
   "cell_type": "code",
   "execution_count": 44,
   "metadata": {},
   "outputs": [
    {
     "name": "stdout",
     "output_type": "stream",
     "text": [
      "5\n",
      "5\n"
     ]
    }
   ],
   "source": [
    "a = 5\n",
    "def func():\n",
    "    x = 3  # here x is local variable\n",
    "    print(x)\n",
    "\n",
    "fucn()\n",
    "print(a)\n",
    "#print(x) #it will give error becs it printing \n",
    "         #local variable which is out of scope"
   ]
  },
  {
   "cell_type": "code",
   "execution_count": 53,
   "metadata": {},
   "outputs": [
    {
     "name": "stdout",
     "output_type": "stream",
     "text": [
      "20\n",
      "5\n",
      "None\n"
     ]
    }
   ],
   "source": [
    "a = 5\n",
    "def func():\n",
    "    a = 20\n",
    "    print(a)  # here a local variable print \n",
    "\n",
    "func()  \n",
    "print(fucn())"
   ]
  },
  {
   "cell_type": "code",
   "execution_count": 52,
   "metadata": {},
   "outputs": [
    {
     "name": "stdout",
     "output_type": "stream",
     "text": [
      "5\n",
      "20\n",
      "20\n"
     ]
    },
    {
     "data": {
      "text/plain": [
       "\"\\n    a = 5\\n\\ndef func():\\n    global a\\n    a = 20\\n    print(a)\\n\\nprint(a)   # Output: 5\\nfunc()     # This call modifies the value of 'a' to 20\\nprint(a)   \\n\\n\""
      ]
     },
     "execution_count": 52,
     "metadata": {},
     "output_type": "execute_result"
    }
   ],
   "source": [
    "a=5\n",
    "def func():\n",
    "    global a \n",
    "    a = 20\n",
    "    print(a)\n",
    "\n",
    "print(a)\n",
    "func()\n",
    "print(a)\n",
    "\n"
   ]
  },
  {
   "cell_type": "code",
   "execution_count": 54,
   "metadata": {},
   "outputs": [
    {
     "data": {
      "text/plain": [
       "' \\n    these are mainly use \\n    when we need nameless fucntions \\n    for short period of time\\n\\n'"
      ]
     },
     "execution_count": 54,
     "metadata": {},
     "output_type": "execute_result"
    }
   ],
   "source": [
    "#lamda Function\n",
    "\"\"\" \n",
    "    these are mainly use \n",
    "    when we need nameless fucntions \n",
    "    for short period of time\n",
    "\n",
    "\"\"\""
   ]
  },
  {
   "cell_type": "code",
   "execution_count": 55,
   "metadata": {},
   "outputs": [
    {
     "data": {
      "text/plain": [
       "35"
      ]
     },
     "execution_count": 55,
     "metadata": {},
     "output_type": "execute_result"
    }
   ],
   "source": [
    "def add(a,b):\n",
    "    return a + b\n",
    "\n",
    "add(12,23)"
   ]
  },
  {
   "cell_type": "code",
   "execution_count": 57,
   "metadata": {},
   "outputs": [
    {
     "data": {
      "text/plain": [
       "35"
      ]
     },
     "execution_count": 57,
     "metadata": {},
     "output_type": "execute_result"
    }
   ],
   "source": [
    "#above funciton using labda\n",
    "(lambda a,b : a + b)(23,12)"
   ]
  },
  {
   "cell_type": "code",
   "execution_count": 62,
   "metadata": {},
   "outputs": [
    {
     "name": "stdout",
     "output_type": "stream",
     "text": [
      "24\n",
      "<class 'function'>\n"
     ]
    }
   ],
   "source": [
    "func = lambda a,b : a + b\n",
    "print(func(12,12))\n",
    "print(type(func))"
   ]
  },
  {
   "cell_type": "code",
   "execution_count": 63,
   "metadata": {},
   "outputs": [
    {
     "data": {
      "text/plain": [
       "221"
      ]
     },
     "execution_count": 63,
     "metadata": {},
     "output_type": "execute_result"
    }
   ],
   "source": [
    "def larg(a,b):\n",
    "    if a>b:\n",
    "        return a\n",
    "    else:\n",
    "        return b\n",
    "    \n",
    "larg(221,12)"
   ]
  },
  {
   "cell_type": "code",
   "execution_count": 65,
   "metadata": {},
   "outputs": [
    {
     "data": {
      "text/plain": [
       "231"
      ]
     },
     "execution_count": 65,
     "metadata": {},
     "output_type": "execute_result"
    }
   ],
   "source": [
    "#using lambda finnding large from two numbers\n",
    "(lambda a,b : a if a > b else b) (123,231)"
   ]
  },
  {
   "cell_type": "code",
   "execution_count": 66,
   "metadata": {},
   "outputs": [
    {
     "name": "stdout",
     "output_type": "stream",
     "text": [
      "23\n"
     ]
    }
   ],
   "source": [
    "large = lambda a,b : a if a>b else b\n",
    "print(larg(12,23))"
   ]
  },
  {
   "cell_type": "code",
   "execution_count": 71,
   "metadata": {},
   "outputs": [
    {
     "name": "stdout",
     "output_type": "stream",
     "text": [
      "[(43, 54), (435, 4352), (12112, 32)]\n"
     ]
    }
   ],
   "source": [
    "lst = [(12112,32),(43,54),(435,4352)]\n",
    "lst.sort() #it sort according to first element in tuple\n",
    "print(lst)"
   ]
  },
  {
   "cell_type": "code",
   "execution_count": 83,
   "metadata": {},
   "outputs": [
    {
     "name": "stdout",
     "output_type": "stream",
     "text": [
      "[(44233, 54), (435, 4352), (122, 31122)]\n"
     ]
    }
   ],
   "source": [
    "#using lambda fucntion sort\n",
    "lst = [(122, 31122), (44233, 54), (435, 4352)]\n",
    "lst.sort(key=lambda x: x[1]) #sort with 1st index in every tuple of list\n",
    "print(lst)"
   ]
  },
  {
   "cell_type": "code",
   "execution_count": 88,
   "metadata": {},
   "outputs": [
    {
     "name": "stdout",
     "output_type": "stream",
     "text": [
      "2 4 6 "
     ]
    }
   ],
   "source": [
    "#return all even number form list\n",
    "\n",
    "innp = [1,2,3,4,5,6]\n",
    "#output = 2,4,6\n",
    "def even(innp):\n",
    "    for i in innp:\n",
    "        if i%2 == 0:\n",
    "            print(i,end=\" \")\n",
    "\n",
    "even(innp)\n"
   ]
  },
  {
   "cell_type": "code",
   "execution_count": 92,
   "metadata": {},
   "outputs": [
    {
     "name": "stdout",
     "output_type": "stream",
     "text": [
      "[1, 2, 3, 4, 22, 23, 543]\n"
     ]
    }
   ],
   "source": [
    "#write fucntion where return new list with all \n",
    "#uniwue elements from given list\n",
    "lst = [1,23,4,2,3,543,2,22,1]\n",
    "#1.interate 2. find unique 3.add in 2nd list\n",
    "newl = []\n",
    "for i in lst:\n",
    "    if i not in newl:\n",
    "        newl.append(i)\n",
    "\n",
    "newl.sort()\n",
    "print(newl)"
   ]
  },
  {
   "cell_type": "code",
   "execution_count": 94,
   "metadata": {},
   "outputs": [
    {
     "data": {
      "text/plain": [
       "True"
      ]
     },
     "execution_count": 94,
     "metadata": {},
     "output_type": "execute_result"
    }
   ],
   "source": [
    "ls = [12,32,32,34,2,11,12]\n",
    "1 not in ls #it will return true if not present in list"
   ]
  },
  {
   "cell_type": "code",
   "execution_count": 99,
   "metadata": {},
   "outputs": [
    {
     "name": "stdout",
     "output_type": "stream",
     "text": [
      "Good :) Morning  vaibhav\n"
     ]
    }
   ],
   "source": [
    "#Arguments and parameters\n",
    "def func(name):\n",
    "    print(\"Good :) Morning \",name)\n",
    "\n",
    "func(\"vaibhav\")"
   ]
  },
  {
   "cell_type": "code",
   "execution_count": 103,
   "metadata": {},
   "outputs": [
    {
     "name": "stdout",
     "output_type": "stream",
     "text": [
      "Hey may name is  Vaibhav\n",
      "My hobby is  cycling\n"
     ]
    }
   ],
   "source": [
    " #positional argument\n",
    "\"\"\" \n",
    "    the value pass when calling \n",
    "    a fucntion are matched according to their position\n",
    "\"\"\"\n",
    "\n",
    "def intro(name,hobby):\n",
    "    print(\"Hey may name is \",name)\n",
    "    print(\"My hobby is \",hobby)\n",
    "\n",
    "intro(\"Vaibhav\",\"cycling\")  #positional argument"
   ]
  },
  {
   "cell_type": "code",
   "execution_count": 105,
   "metadata": {},
   "outputs": [
    {
     "name": "stdout",
     "output_type": "stream",
     "text": [
      "Hey may name is  Vaibhav\n",
      "My hobby is  Cycling\n",
      "\n",
      "Hey may name is  Pratik\n",
      "My hobby is  None\n"
     ]
    }
   ],
   "source": [
    "#default argument\n",
    "\"\"\" \n",
    "    giving default values to the parameters\n",
    "    or these parametes passing value in argument is optional\n",
    "\"\"\"\n",
    "\n",
    "def intro(name,hobby = None):\n",
    "    print(\"Hey may name is \",name)\n",
    "    print(\"My hobby is \",hobby)\n",
    "\n",
    "intro(\"Vaibhav\",\"Cycling\")\n",
    "print()\n",
    "intro(\"Pratik\") # default argument for hobby os none\n"
   ]
  },
  {
   "cell_type": "code",
   "execution_count": 107,
   "metadata": {},
   "outputs": [
    {
     "name": "stdout",
     "output_type": "stream",
     "text": [
      "Hey may name is  Vaibhav\n",
      "My hobby is  Reading\n"
     ]
    }
   ],
   "source": [
    "#default and non-default argument\n",
    "def intro(name,hobby = \"Reading\"): # here non default argument should always\n",
    "    # before default argument\n",
    "    print(\"Hey may name is \",name)\n",
    "    print(\"My hobby is \",hobby)\n",
    "\n",
    "intro(\"Vaibhav\") #here default for hobby is reading\n",
    "\n"
   ]
  },
  {
   "cell_type": "code",
   "execution_count": 117,
   "metadata": {},
   "outputs": [
    {
     "name": "stdout",
     "output_type": "stream",
     "text": [
      "(12, 324, 23, 23)\n",
      "12 324 23 23 \n",
      "\n",
      "('Vaibhav', 'Nirmal')\n",
      "Vaibhav Nirmal \n",
      "\n",
      "('Vaibhav', 12, 1212.32)\n",
      "Vaibhav 12 1212.32 \n"
     ]
    }
   ],
   "source": [
    "#Arbitrary arguments\n",
    "\"\"\"\" \n",
    "    WHEN NUMBER of values you want to pass is not known\n",
    "    like we pass multiple values in print fuciton\n",
    "    the values are being store in tuple\n",
    "\"\"\"\n",
    "def test(* args): # it will take any number of argument\n",
    "    print(args)\n",
    "\n",
    "    \n",
    "    for i in args:\n",
    "        print(i,end = \" \")\n",
    "    print()\n",
    "\n",
    "test(12,324,23,23)\n",
    "print()\n",
    "test(\"Vaibhav\",\"Nirmal\")\n",
    "print()\n",
    "test(\"Vaibhav\",12,1212.32)"
   ]
  },
  {
   "cell_type": "code",
   "execution_count": 123,
   "metadata": {},
   "outputs": [],
   "source": [
    "# OOOPSSSSSSSSSS\n",
    "\"\"\" \n",
    "    object oeriented programming\n",
    "    the principles of oops are based on 4 pillars apart from class and object\n",
    "    a class has attributed and behaviour\n",
    "\n",
    "\n",
    "    object is real time entity\n",
    "    eg. car, book\n",
    "    eg . 2,23,4,5 are the can be say objects of integer class\n",
    "    \n",
    "    class is blueprint of object\n",
    "    eg. it can have engine, color, model\n",
    "    class can have attributes and behaviour\n",
    "\n",
    "\"\"\""
   ]
  },
  {
   "cell_type": "code",
   "execution_count": 124,
   "metadata": {},
   "outputs": [
    {
     "data": {
      "text/plain": [
       "' \\n    the word polymorphism means having many forms.\\n    same class mthds can work differently for different objects\\n'"
      ]
     },
     "execution_count": 124,
     "metadata": {},
     "output_type": "execute_result"
    }
   ],
   "source": [
    "#abstraction\n",
    "\"\"\" \n",
    "    abstraction means displaying only essential information\n",
    "    and hiding the details\n",
    "    eg. caar will acceelerate but internal working of engine not express\n",
    "\"\"\"\n",
    "\n",
    "#Encapsulation\n",
    "\"\"\" \n",
    "    Buldling of data into a single unit\n",
    "    bundling of all methods that can act on an object of that data\n",
    "    car can have colors, brakes, engine and a lot of other methods\n",
    "\"\"\"\n",
    "\n",
    "#Inheritence\n",
    "\"\"\" \n",
    "    when a class derives from anothe class\n",
    "    any new car comany can inherit all thhe information\n",
    "    from car class\n",
    "\"\"\"\n",
    "\n",
    "# polymorphism\n",
    "\"\"\" \n",
    "    the word polymorphism means having many forms.\n",
    "    same class mthds can work differently for different objects\n",
    "\"\"\"\n",
    "\n"
   ]
  },
  {
   "cell_type": "code",
   "execution_count": 126,
   "metadata": {},
   "outputs": [],
   "source": [
    "#creating classes\n",
    "\"\"\" \n",
    "    class is blueprint tp create objects\n",
    "     thea class keyword is used to create class\n",
    "\"\"\"\n",
    "\"\"\" \n",
    "    syntax : \n",
    "\n",
    "                class classname:\n",
    "                ________________\n",
    "                ________________\n",
    "                ________________\n",
    "\"\"\"\n",
    "\n",
    "class Car:\n",
    "    pass"
   ]
  },
  {
   "cell_type": "code",
   "execution_count": 127,
   "metadata": {},
   "outputs": [
    {
     "data": {
      "text/plain": [
       "__main__.Car"
      ]
     },
     "execution_count": 127,
     "metadata": {},
     "output_type": "execute_result"
    }
   ],
   "source": [
    "#objects\n",
    "\"\"\" \n",
    "    objects are instnace or entities of a class\n",
    "    it has all the properties of it's class\n",
    "\"\"\"\n",
    "\"\"\" \n",
    "        syntax :\n",
    "                    object_name = class_name\n",
    "                    __________________________\n",
    "                    _________________________\n",
    "\"\"\"\n",
    "honda = Car()\n",
    "type(honda)"
   ]
  },
  {
   "cell_type": "code",
   "execution_count": 128,
   "metadata": {},
   "outputs": [
    {
     "data": {
      "text/plain": [
       "int"
      ]
     },
     "execution_count": 128,
     "metadata": {},
     "output_type": "execute_result"
    }
   ],
   "source": [
    "type(1)"
   ]
  },
  {
   "cell_type": "code",
   "execution_count": 129,
   "metadata": {},
   "outputs": [
    {
     "data": {
      "text/plain": [
       "str"
      ]
     },
     "execution_count": 129,
     "metadata": {},
     "output_type": "execute_result"
    }
   ],
   "source": [
    "type(\"vaibhav\")"
   ]
  },
  {
   "cell_type": "code",
   "execution_count": 130,
   "metadata": {},
   "outputs": [
    {
     "data": {
      "text/plain": [
       "' \\n    Constructor are special methods\\n    used to create and initialize ans object oof class.\\n    This mehtos is defined in the class\\n    The constructor is execute automatically at the time of object creation\\n'"
      ]
     },
     "execution_count": 130,
     "metadata": {},
     "output_type": "execute_result"
    }
   ],
   "source": [
    "#Class constructor\n",
    "\"\"\" \n",
    "    Constructor are special methods\n",
    "    used to create and initialize ans object oof class.\n",
    "    This mehtos is defined in the class\n",
    "    The constructor is execute automatically at the time of object creation\n",
    "\"\"\"\n"
   ]
  },
  {
   "cell_type": "code",
   "execution_count": 135,
   "metadata": {},
   "outputs": [
    {
     "name": "stdout",
     "output_type": "stream",
     "text": [
      "This will alwasys print\n",
      "<class '__main__.Human'>\n"
     ]
    }
   ],
   "source": [
    "class Human:\n",
    "    #i want some properties to be with every human\n",
    "    def __init__(self):\n",
    "        print(\"This will alwasys print\")\n",
    "\n",
    "rahul = Human()\n",
    "print(type(rahul))\n"
   ]
  },
  {
   "cell_type": "code",
   "execution_count": 136,
   "metadata": {},
   "outputs": [
    {
     "name": "stdout",
     "output_type": "stream",
     "text": [
      "This will alwasys print\n",
      "<class '__main__.Human'>\n"
     ]
    }
   ],
   "source": [
    "vaibhav = Human()\n",
    "print(type(vaibhav))"
   ]
  },
  {
   "cell_type": "code",
   "execution_count": 139,
   "metadata": {},
   "outputs": [
    {
     "name": "stdout",
     "output_type": "stream",
     "text": [
      "This will alwasys print\n"
     ]
    }
   ],
   "source": [
    "class Human:\n",
    "    #i want some properties to be with every human\n",
    "    def __init__(self,name , age):\n",
    "        self.name = name\n",
    "        self.age = age\n",
    "        print(\"This will alwasys print\")\n",
    "\n",
    "rahul = Human(\"Vaibhav\",23)\n"
   ]
  },
  {
   "cell_type": "code",
   "execution_count": 140,
   "metadata": {},
   "outputs": [
    {
     "data": {
      "text/plain": [
       "23"
      ]
     },
     "execution_count": 140,
     "metadata": {},
     "output_type": "execute_result"
    }
   ],
   "source": [
    "rahul.age"
   ]
  },
  {
   "cell_type": "code",
   "execution_count": 141,
   "metadata": {},
   "outputs": [
    {
     "data": {
      "text/plain": [
       "'Vaibhav'"
      ]
     },
     "execution_count": 141,
     "metadata": {},
     "output_type": "execute_result"
    }
   ],
   "source": [
    "rahul.name"
   ]
  },
  {
   "cell_type": "code",
   "execution_count": 5,
   "metadata": {},
   "outputs": [
    {
     "name": "stdout",
     "output_type": "stream",
     "text": [
      "Hey my name is Vaibhav. Good :) morning\n"
     ]
    }
   ],
   "source": [
    "#methods\n",
    "class Human:\n",
    "    #i want some properties to be with every human\n",
    "    def __init__(self,name , age):\n",
    "        self.name = name\n",
    "        self.age = age\n",
    "\n",
    "    def greet(self):\n",
    "        print(f\"Hey my name is {self.name}. Good :) morning\")\n",
    "\n",
    "rahul = Human(\"Vaibhav\",12)\n",
    "rahul.greet()"
   ]
  },
  {
   "cell_type": "code",
   "execution_count": 6,
   "metadata": {},
   "outputs": [
    {
     "name": "stdout",
     "output_type": "stream",
     "text": [
      "Hey my name is Emma. Good :) morning\n"
     ]
    }
   ],
   "source": [
    "emma = Human(\"Emma\",23)\n",
    "emma.greet()"
   ]
  },
  {
   "cell_type": "code",
   "execution_count": 7,
   "metadata": {},
   "outputs": [
    {
     "data": {
      "text/plain": [
       "'Emma'"
      ]
     },
     "execution_count": 7,
     "metadata": {},
     "output_type": "execute_result"
    }
   ],
   "source": [
    "emma.name"
   ]
  },
  {
   "cell_type": "code",
   "execution_count": 8,
   "metadata": {},
   "outputs": [
    {
     "data": {
      "text/plain": [
       "23"
      ]
     },
     "execution_count": 8,
     "metadata": {},
     "output_type": "execute_result"
    }
   ],
   "source": [
    "emma.age"
   ]
  },
  {
   "cell_type": "code",
   "execution_count": 14,
   "metadata": {},
   "outputs": [
    {
     "name": "stdout",
     "output_type": "stream",
     "text": [
      "Hey my name is Rahul. Good :) morning\n",
      "Hey my name is Vaibhav. Good :) morning\n",
      "population =  2\n"
     ]
    }
   ],
   "source": [
    "class human:\n",
    "    #class variables\n",
    "    population = 0\n",
    "\n",
    "    def __init__(self,name , age):\n",
    "        self.name = name\n",
    "        self.age = age\n",
    "        human.population += 1 # when object created it will increment\n",
    "\n",
    "    def greet(self):\n",
    "        print(f\"Hey my name is {self.name}. Good :) morning\")\n",
    "\n",
    "\n",
    "rahul = human(\"Rahul\",23)\n",
    "rahul.greet()\n",
    "vaibhav = human(\"Vaibhav\",22)\n",
    "vaibhav.greet()\n",
    "print(\"population = \",human.population)\n",
    "\n"
   ]
  },
  {
   "cell_type": "code",
   "execution_count": null,
   "metadata": {},
   "outputs": [],
   "source": [
    "class human:\n",
    "    #class variables\n",
    "    population = 0\n",
    "\n",
    "    def __init__(self,name , age, alive ):\n",
    "        self.name = name\n",
    "        self.age = age\n",
    "        self.alive = alive\n",
    "\n",
    "        human.population += 1 # when object created it will increment\n",
    "\n",
    "    def greet(self):\n",
    "        print(f\"Hey my name is {self.name}. Good :) morning\")\n",
    "\n",
    "    def dead(self):\n",
    "        if self.alive:\n",
    "            print(self.name, \"is no more now.\")\n",
    "            human.population -= 1\n",
    "            self.alive = False\n",
    "        else:\n",
    "            print(\"this person alread dead\")\n",
    "\n",
    "rahul = human(\"Rahul\",23)\n",
    "rahul.greet()\n",
    "vaibhav = human(\"Vaibhav\",22)\n",
    "vaibhav.greet()\n",
    "print(\"population = \",human.population)\n",
    "\n"
   ]
  }
 ],
 "metadata": {
  "kernelspec": {
   "display_name": "Python 3",
   "language": "python",
   "name": "python3"
  },
  "language_info": {
   "codemirror_mode": {
    "name": "ipython",
    "version": 3
   },
   "file_extension": ".py",
   "mimetype": "text/x-python",
   "name": "python",
   "nbconvert_exporter": "python",
   "pygments_lexer": "ipython3",
   "version": "3.11.4"
  },
  "orig_nbformat": 4
 },
 "nbformat": 4,
 "nbformat_minor": 2
}
