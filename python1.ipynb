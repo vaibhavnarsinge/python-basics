{
 "cells": [
  {
   "cell_type": "code",
   "execution_count": 1,
   "id": "f809467e-0211-4518-81ed-5c99b4e28e5a",
   "metadata": {
    "tags": []
   },
   "outputs": [
    {
     "name": "stdout",
     "output_type": "stream",
     "text": [
      "hello\n"
     ]
    }
   ],
   "source": [
    "print(\"hello\")"
   ]
  },
  {
   "cell_type": "code",
   "execution_count": 2,
   "id": "fb1a8454-9559-43b4-a916-78d97d8c3689",
   "metadata": {
    "tags": []
   },
   "outputs": [],
   "source": [
    "#data types\n",
    "#integer\n",
    "#float\n",
    "#string\n",
    "#boolean\n",
    "#none"
   ]
  },
  {
   "cell_type": "code",
   "execution_count": 3,
   "id": "a01df7d6-29fa-44e9-b79f-d2e23cc4c762",
   "metadata": {
    "tags": []
   },
   "outputs": [],
   "source": [
    "x =12"
   ]
  },
  {
   "cell_type": "code",
   "execution_count": 4,
   "id": "977a53aa-eaa2-412d-a3d8-0b2bc1b0e2ca",
   "metadata": {
    "tags": []
   },
   "outputs": [
    {
     "name": "stdout",
     "output_type": "stream",
     "text": [
      "12\n",
      "<class 'int'>\n"
     ]
    }
   ],
   "source": [
    "print(x)\n",
    "print(type(x))"
   ]
  },
  {
   "cell_type": "code",
   "execution_count": 5,
   "id": "f3a5cb7b-e87c-4536-8e2e-acb4791cc80f",
   "metadata": {
    "tags": []
   },
   "outputs": [],
   "source": [
    "y = \"vaibhav\"\n"
   ]
  },
  {
   "cell_type": "code",
   "execution_count": 6,
   "id": "48298abc-46cd-4b98-9fe2-6fc3c0c19d95",
   "metadata": {
    "tags": []
   },
   "outputs": [
    {
     "name": "stdout",
     "output_type": "stream",
     "text": [
      "vaibhav\n",
      "<class 'str'>\n"
     ]
    }
   ],
   "source": [
    "print(y)\n",
    "print(type(y))\n"
   ]
  },
  {
   "cell_type": "code",
   "execution_count": 7,
   "id": "cbd6310f-d4cb-4f30-9086-4c9e0ef074a9",
   "metadata": {
    "tags": []
   },
   "outputs": [
    {
     "name": "stdout",
     "output_type": "stream",
     "text": [
      " vbn\n"
     ]
    }
   ],
   "source": [
    "#input function\n",
    "\n",
    "name = input()\n"
   ]
  },
  {
   "cell_type": "code",
   "execution_count": null,
   "id": "c01898b3-7428-4412-b8f0-d11ad58182ad",
   "metadata": {},
   "outputs": [],
   "source": []
  },
  {
   "cell_type": "code",
   "execution_count": 8,
   "id": "fda7533b-7ebe-4d0f-8069-20f67ddab4b5",
   "metadata": {
    "tags": []
   },
   "outputs": [
    {
     "name": "stdout",
     "output_type": "stream",
     "text": [
      "vbn\n"
     ]
    }
   ],
   "source": [
    "print(name)"
   ]
  },
  {
   "cell_type": "code",
   "execution_count": 9,
   "id": "e9a9e2a2-639a-4cae-85d1-4a8c69ed9e33",
   "metadata": {},
   "outputs": [],
   "source": [
    "#number as input\n"
   ]
  },
  {
   "cell_type": "code",
   "execution_count": 10,
   "id": "d98ef6f8-bacb-45db-bbce-f833fb0c5150",
   "metadata": {
    "tags": []
   },
   "outputs": [
    {
     "name": "stdout",
     "output_type": "stream",
     "text": [
      " 67\n"
     ]
    }
   ],
   "source": [
    "x =input()"
   ]
  },
  {
   "cell_type": "code",
   "execution_count": 11,
   "id": "2055f0f6-de49-454c-bbc2-a84ea1d0020e",
   "metadata": {
    "tags": []
   },
   "outputs": [
    {
     "name": "stdout",
     "output_type": "stream",
     "text": [
      "67\n"
     ]
    }
   ],
   "source": [
    "print(x)"
   ]
  },
  {
   "cell_type": "code",
   "execution_count": 12,
   "id": "7a1d4e5b-2357-457f-9c6f-e011e8252728",
   "metadata": {
    "tags": []
   },
   "outputs": [
    {
     "name": "stdout",
     "output_type": "stream",
     "text": [
      "<class 'str'>\n"
     ]
    }
   ],
   "source": [
    "print(type(x))"
   ]
  },
  {
   "cell_type": "code",
   "execution_count": 13,
   "id": "01c87007-0727-4dd7-8d2a-48cc21688c53",
   "metadata": {
    "tags": []
   },
   "outputs": [],
   "source": [
    "#type conversion"
   ]
  },
  {
   "cell_type": "code",
   "execution_count": 14,
   "id": "68bb3d1d-fa4e-4a11-9fb7-80e574801609",
   "metadata": {
    "tags": []
   },
   "outputs": [],
   "source": [
    "x = 12\n"
   ]
  },
  {
   "cell_type": "code",
   "execution_count": 15,
   "id": "c19f8401-1db7-4364-bbb5-eecc90c6f802",
   "metadata": {
    "tags": []
   },
   "outputs": [],
   "source": [
    "y = float(x)"
   ]
  },
  {
   "cell_type": "code",
   "execution_count": 16,
   "id": "acb711fd-ae4a-4252-a443-41cf68c2b41c",
   "metadata": {
    "tags": []
   },
   "outputs": [
    {
     "name": "stdout",
     "output_type": "stream",
     "text": [
      "12.0\n",
      "<class 'float'>\n",
      "<class 'int'>\n"
     ]
    }
   ],
   "source": [
    "print(y)\n",
    "print(type(y))\n",
    "print(type(x))\n"
   ]
  },
  {
   "cell_type": "code",
   "execution_count": 17,
   "id": "9acb1a06-8637-4297-b5d5-27eb2bbe5d27",
   "metadata": {
    "tags": []
   },
   "outputs": [],
   "source": [
    "c = float(\"1.5\")\n"
   ]
  },
  {
   "cell_type": "code",
   "execution_count": 18,
   "id": "957f994f-98b3-4228-b833-97ab80199482",
   "metadata": {
    "tags": []
   },
   "outputs": [
    {
     "data": {
      "text/plain": [
       "float"
      ]
     },
     "execution_count": 18,
     "metadata": {},
     "output_type": "execute_result"
    }
   ],
   "source": [
    "type(c)\n"
   ]
  },
  {
   "cell_type": "code",
   "execution_count": 19,
   "id": "fff3e7ef-990c-4496-a04a-b08e9e1bef3e",
   "metadata": {
    "tags": []
   },
   "outputs": [
    {
     "data": {
      "text/plain": [
       "1"
      ]
     },
     "execution_count": 19,
     "metadata": {},
     "output_type": "execute_result"
    }
   ],
   "source": [
    "int(c)\n"
   ]
  },
  {
   "cell_type": "code",
   "execution_count": 20,
   "id": "352a7eaf-baec-438c-8617-f77f30df5cb9",
   "metadata": {
    "tags": []
   },
   "outputs": [],
   "source": [
    "#printing multiple values using print function\n"
   ]
  },
  {
   "cell_type": "code",
   "execution_count": 21,
   "id": "de915fb1-78f9-4a1e-b1f1-085ed60b9a0c",
   "metadata": {
    "tags": []
   },
   "outputs": [
    {
     "name": "stdout",
     "output_type": "stream",
     "text": [
      "RahuLl\n"
     ]
    }
   ],
   "source": [
    "print(\"RahuLl\")\n"
   ]
  },
  {
   "cell_type": "code",
   "execution_count": 22,
   "id": "36481006-8b30-436f-b561-3c5c15172811",
   "metadata": {
    "tags": []
   },
   "outputs": [
    {
     "name": "stdout",
     "output_type": "stream",
     "text": [
      "rahul vaibhav Nirmal\n"
     ]
    }
   ],
   "source": [
    "print(\"rahul\",\"vaibhav\",\"Nirmal\")\n"
   ]
  },
  {
   "cell_type": "code",
   "execution_count": 23,
   "id": "bfe46285-b9b7-4f17-902b-6fad2db1bc6b",
   "metadata": {
    "tags": []
   },
   "outputs": [
    {
     "name": "stdout",
     "output_type": "stream",
     "text": [
      "rahul vaibhav Nirmal 12 123 24 123 1 312 131 313 123 31\n"
     ]
    }
   ],
   "source": [
    "print(\"rahul\",\"vaibhav\",\"Nirmal\", 12,123,24,123,1,312,131,313,123,31)\n"
   ]
  },
  {
   "cell_type": "code",
   "execution_count": 24,
   "id": "f79e2239-871f-4fda-8d54-7a549cdd5075",
   "metadata": {
    "tags": []
   },
   "outputs": [
    {
     "name": "stdout",
     "output_type": "stream",
     "text": [
      "rahul vaibhav Nirmal 12 12 312 131 313 123 31\n"
     ]
    }
   ],
   "source": [
    "print(\"rahul\",\"vaibhav\",\"Nirmal\", 12,12,312,131,313,123,31)\n",
    "\n"
   ]
  },
  {
   "cell_type": "code",
   "execution_count": 26,
   "id": "0aab4109-3d70-4a9c-89c0-ee270ca0a309",
   "metadata": {
    "tags": []
   },
   "outputs": [],
   "source": [
    "#there is by default \\n at end of print statement"
   ]
  },
  {
   "cell_type": "code",
   "execution_count": 27,
   "id": "e2df99e1-efeb-4c37-8360-cc023e21a3dd",
   "metadata": {
    "tags": []
   },
   "outputs": [
    {
     "name": "stdout",
     "output_type": "stream",
     "text": [
      "vaibhav 21\n",
      "rahul 23\n"
     ]
    }
   ],
   "source": [
    " #example\n",
    "print(\"vaibhav\",21)\n",
    "print(\"rahul\",23)"
   ]
  },
  {
   "cell_type": "code",
   "execution_count": 28,
   "id": "21c3a944-48e1-4831-99d9-67b70fa684b1",
   "metadata": {
    "tags": []
   },
   "outputs": [
    {
     "name": "stdout",
     "output_type": "stream",
     "text": [
      "vaibhav->21\n"
     ]
    }
   ],
   "source": [
    "print(\"vaibhav\",21, sep=\"->\")"
   ]
  },
  {
   "cell_type": "code",
   "execution_count": null,
   "id": "db261aa4-8a6c-452f-a2c8-c3d8bb0ed3f5",
   "metadata": {},
   "outputs": [],
   "source": []
  },
  {
   "cell_type": "code",
   "execution_count": 29,
   "id": "8f716a8e-c6d3-44b1-a60b-57c75a1e6c1f",
   "metadata": {
    "tags": []
   },
   "outputs": [
    {
     "name": "stdout",
     "output_type": "stream",
     "text": [
      "rahul->vaibhav->Nirmal->12->12->312->131->313->123->31\n"
     ]
    }
   ],
   "source": [
    "print(\"rahul\",\"vaibhav\",\"Nirmal\", 12,12,312,131,313,123,31,sep=\"->\")\n"
   ]
  },
  {
   "cell_type": "code",
   "execution_count": 30,
   "id": "486c6139-2a27-419e-934b-8337fe8f24c6",
   "metadata": {
    "tags": []
   },
   "outputs": [
    {
     "name": "stdout",
     "output_type": "stream",
     "text": [
      "rahul\n",
      "vaibhav\n",
      "Nirmal\n",
      "12\n",
      "12\n",
      "312\n",
      "131\n",
      "313\n",
      "123\n",
      "31\n"
     ]
    }
   ],
   "source": [
    "print(\"rahul\",\"vaibhav\",\"Nirmal\", 12,12,312,131,313,123,31,sep=\"\\n\")\n"
   ]
  },
  {
   "cell_type": "code",
   "execution_count": 31,
   "id": "466c100e-3e6c-42d1-bcee-b748cfc2353f",
   "metadata": {
    "tags": []
   },
   "outputs": [
    {
     "name": "stdout",
     "output_type": "stream",
     "text": [
      "rahul,vaibhav,Nirmal,12,12,312,131,313,123,31\n"
     ]
    }
   ],
   "source": [
    "print(\"rahul\",\"vaibhav\",\"Nirmal\", 12,12,312,131,313,123,31,sep=\",\")\n"
   ]
  },
  {
   "cell_type": "code",
   "execution_count": 32,
   "id": "16da917d-fd9e-4b8a-addd-3f8b4dfcf1d6",
   "metadata": {
    "tags": []
   },
   "outputs": [
    {
     "name": "stdout",
     "output_type": "stream",
     "text": [
      "vaibhav 21 rahul 23\n"
     ]
    }
   ],
   "source": [
    "#end operator\n",
    "\n",
    "print(\"vaibhav\",21,end=\" \")\n",
    "print(\"rahul\",23)"
   ]
  },
  {
   "cell_type": "code",
   "execution_count": 33,
   "id": "c554e0c4-13dd-42f3-b81c-1969be768ea0",
   "metadata": {
    "tags": []
   },
   "outputs": [
    {
     "name": "stdout",
     "output_type": "stream",
     "text": [
      "vaibhav\n",
      "21->rahul 23\n"
     ]
    }
   ],
   "source": [
    "print(\"vaibhav\",21,sep=\"\\n\",end=\"->\")\n",
    "print(\"rahul\",23)"
   ]
  },
  {
   "cell_type": "code",
   "execution_count": 34,
   "id": "7745d0f4-63e7-4cce-accd-dd82d4af446d",
   "metadata": {
    "tags": []
   },
   "outputs": [
    {
     "name": "stdout",
     "output_type": "stream",
     "text": [
      "\n"
     ]
    }
   ],
   "source": [
    "c = print()"
   ]
  },
  {
   "cell_type": "code",
   "execution_count": 35,
   "id": "a127e5f1-1a08-4627-bf95-ee6ac6d8666b",
   "metadata": {
    "tags": []
   },
   "outputs": [
    {
     "name": "stdout",
     "output_type": "stream",
     "text": [
      "<class 'NoneType'>\n"
     ]
    }
   ],
   "source": [
    "print(type(c))"
   ]
  },
  {
   "cell_type": "code",
   "execution_count": 36,
   "id": "f7718715-0f2f-4355-a3a0-14df4802bbb4",
   "metadata": {
    "tags": []
   },
   "outputs": [],
   "source": [
    "#   X + Y , here x, y are operand and + is operator \n",
    "#and this whole is known as expression"
   ]
  },
  {
   "cell_type": "code",
   "execution_count": 37,
   "id": "7c7ec410-7e31-4d46-b9c0-881e70a21d5c",
   "metadata": {
    "tags": []
   },
   "outputs": [],
   "source": [
    "#Arithmatic operator\n",
    "#  +, -, *, /, %\n",
    "#Addition +\n",
    "#subtraction -\n",
    "#division /         it always gives float values\n",
    "#mod %\n",
    "#multiplication *\n"
   ]
  },
  {
   "cell_type": "code",
   "execution_count": 38,
   "id": "62aa073d-03d7-488f-86f4-e354a4ad5d89",
   "metadata": {
    "tags": []
   },
   "outputs": [
    {
     "name": "stdout",
     "output_type": "stream",
     "text": [
      "Addition =  12\n",
      "suntraction =  -2\n",
      "Division =  0.7142857142857143\n",
      "multiplication =  35\n"
     ]
    }
   ],
   "source": [
    "a = 5\n",
    "b = 7\n",
    "\n",
    "print(\"Addition = \",(a+b))\n",
    "print(\"suntraction = \",(a-b))\n",
    "print(\"Division = \",(a/b))\n",
    "print(\"multiplication = \",(a*b))"
   ]
  },
  {
   "cell_type": "code",
   "execution_count": 39,
   "id": "15930730-d28d-4171-94a6-7c8f3d7a9540",
   "metadata": {
    "tags": []
   },
   "outputs": [
    {
     "data": {
      "text/plain": [
       "12"
      ]
     },
     "execution_count": 39,
     "metadata": {},
     "output_type": "execute_result"
    }
   ],
   "source": [
    "a+b"
   ]
  },
  {
   "cell_type": "code",
   "execution_count": 40,
   "id": "66b286ad-2248-4027-81ba-570c9de1a618",
   "metadata": {
    "tags": []
   },
   "outputs": [
    {
     "data": {
      "text/plain": [
       "-2"
      ]
     },
     "execution_count": 40,
     "metadata": {},
     "output_type": "execute_result"
    }
   ],
   "source": [
    "a-b"
   ]
  },
  {
   "cell_type": "code",
   "execution_count": 41,
   "id": "3f429ce6-48ae-4fc4-9a0c-16a8eb7158bb",
   "metadata": {
    "tags": []
   },
   "outputs": [
    {
     "data": {
      "text/plain": [
       "0.7142857142857143"
      ]
     },
     "execution_count": 41,
     "metadata": {},
     "output_type": "execute_result"
    }
   ],
   "source": [
    "a/b"
   ]
  },
  {
   "cell_type": "code",
   "execution_count": 42,
   "id": "d167c80f-40d5-4065-abcf-2faa4f4c7e84",
   "metadata": {
    "tags": []
   },
   "outputs": [
    {
     "data": {
      "text/plain": [
       "35"
      ]
     },
     "execution_count": 42,
     "metadata": {},
     "output_type": "execute_result"
    }
   ],
   "source": [
    "a*b"
   ]
  },
  {
   "cell_type": "code",
   "execution_count": 43,
   "id": "d19a5fe1-3439-41e5-ba07-fcda47ef83d7",
   "metadata": {
    "tags": []
   },
   "outputs": [
    {
     "data": {
      "text/plain": [
       "4.0120000000000005"
      ]
     },
     "execution_count": 43,
     "metadata": {},
     "output_type": "execute_result"
    }
   ],
   "source": [
    "1.5  +  2.512"
   ]
  },
  {
   "cell_type": "code",
   "execution_count": 44,
   "id": "93c69505-bb4d-4699-b01f-7de3a3a5fd39",
   "metadata": {
    "tags": []
   },
   "outputs": [
    {
     "data": {
      "text/plain": [
       "144"
      ]
     },
     "execution_count": 44,
     "metadata": {},
     "output_type": "execute_result"
    }
   ],
   "source": [
    "12 * 12"
   ]
  },
  {
   "cell_type": "code",
   "execution_count": 45,
   "id": "9f2dab7f-b5aa-4edb-bda7-76a7966a7f2d",
   "metadata": {
    "tags": []
   },
   "outputs": [
    {
     "data": {
      "text/plain": [
       "24.2"
      ]
     },
     "execution_count": 45,
     "metadata": {},
     "output_type": "execute_result"
    }
   ],
   "source": [
    "121/5"
   ]
  },
  {
   "cell_type": "code",
   "execution_count": 46,
   "id": "d017fd6e-670f-420d-9a40-3fbb80f5cabd",
   "metadata": {
    "tags": []
   },
   "outputs": [
    {
     "name": "stdout",
     "output_type": "stream",
     "text": [
      "Vaibhav Narsinge\n"
     ]
    }
   ],
   "source": [
    "first = \"Vaibhav\"\n",
    "last = \" Narsinge\"\n",
    " \n",
    "# string concatenation\n",
    "\n",
    "print(first + last)"
   ]
  },
  {
   "cell_type": "code",
   "execution_count": 47,
   "id": "4fe26418-8c2a-4f83-9929-5443fe190ca6",
   "metadata": {
    "tags": []
   },
   "outputs": [
    {
     "name": "stdout",
     "output_type": "stream",
     "text": [
      "11\n",
      "<class 'NoneType'>\n"
     ]
    }
   ],
   "source": [
    "a  =  print(\"1\" + \"1\")\n",
    "\n",
    "print(type(a))"
   ]
  },
  {
   "cell_type": "code",
   "execution_count": 48,
   "id": "d7d16da0-91f4-4c9a-acec-8e9f5b549d2f",
   "metadata": {
    "tags": []
   },
   "outputs": [
    {
     "data": {
      "text/plain": [
       "str"
      ]
     },
     "execution_count": 48,
     "metadata": {},
     "output_type": "execute_result"
    }
   ],
   "source": [
    "type(\"1\")\n"
   ]
  },
  {
   "cell_type": "code",
   "execution_count": 49,
   "id": "d1253ae1-f803-4439-9105-b1aaa456793b",
   "metadata": {
    "tags": []
   },
   "outputs": [
    {
     "data": {
      "text/plain": [
       "'VaibhavVaibhavVaibhav'"
      ]
     },
     "execution_count": 49,
     "metadata": {},
     "output_type": "execute_result"
    }
   ],
   "source": [
    "first * 3"
   ]
  },
  {
   "cell_type": "code",
   "execution_count": 50,
   "id": "4f52adc6-be50-4cee-aa16-e307345df057",
   "metadata": {
    "tags": []
   },
   "outputs": [
    {
     "data": {
      "text/plain": [
       "' Narsinge Narsinge Narsinge'"
      ]
     },
     "execution_count": 50,
     "metadata": {},
     "output_type": "execute_result"
    }
   ],
   "source": [
    "last*3"
   ]
  },
  {
   "cell_type": "code",
   "execution_count": 51,
   "id": "6a9b7b63-959c-445e-804a-470f3a481918",
   "metadata": {
    "tags": []
   },
   "outputs": [],
   "source": [
    "#cant't multiply string X string\n",
    "\n",
    "#first*first"
   ]
  },
  {
   "cell_type": "code",
   "execution_count": 52,
   "id": "38fe6d4f-2aca-4fc8-bb54-25c0fa797e03",
   "metadata": {
    "tags": []
   },
   "outputs": [
    {
     "name": "stdout",
     "output_type": "stream",
     "text": [
      "13 3\n"
     ]
    }
   ],
   "source": [
    "a = 13\n",
    "b = 3\n",
    "print(a,b)"
   ]
  },
  {
   "cell_type": "code",
   "execution_count": 53,
   "id": "ac9d4907-6eb1-4297-b391-c0e6974ff105",
   "metadata": {
    "tags": []
   },
   "outputs": [
    {
     "name": "stdout",
     "output_type": "stream",
     "text": [
      "1\n"
     ]
    }
   ],
   "source": [
    "print(a % b) #it return remainder"
   ]
  },
  {
   "cell_type": "code",
   "execution_count": 54,
   "id": "f1e1a067-4156-42ac-aec8-ef1ae5a49847",
   "metadata": {
    "tags": []
   },
   "outputs": [
    {
     "name": "stdout",
     "output_type": "stream",
     "text": [
      "4.333333333333333\n"
     ]
    }
   ],
   "source": [
    "print(a / b) #it returns result of division"
   ]
  },
  {
   "cell_type": "code",
   "execution_count": 55,
   "id": "7ca44e8a-80c7-44d0-a39a-142d35b69938",
   "metadata": {
    "tags": []
   },
   "outputs": [
    {
     "name": "stdout",
     "output_type": "stream",
     "text": [
      "4\n"
     ]
    }
   ],
   "source": [
    "# // in flooor division\n",
    "print(a//b)   #it not print numbers after decimal"
   ]
  },
  {
   "cell_type": "code",
   "execution_count": 56,
   "id": "0a34b865-0c33-435a-95df-a439f44e71b6",
   "metadata": {
    "tags": []
   },
   "outputs": [
    {
     "name": "stdout",
     "output_type": "stream",
     "text": [
      "2197\n"
     ]
    }
   ],
   "source": [
    "print(a**b) # here b will be power and a is base"
   ]
  },
  {
   "cell_type": "code",
   "execution_count": 57,
   "id": "aff72fba-2d7c-4379-8f51-40a0b65a43f6",
   "metadata": {
    "tags": []
   },
   "outputs": [],
   "source": [
    "#comparison operator\n",
    "#<, > , <=, >=, == , !="
   ]
  },
  {
   "cell_type": "code",
   "execution_count": 58,
   "id": "b4ce0478-ea6b-4c9e-9aab-20a2dc763fef",
   "metadata": {
    "tags": []
   },
   "outputs": [],
   "source": [
    "a = 6\n",
    "b = 3"
   ]
  },
  {
   "cell_type": "code",
   "execution_count": 59,
   "id": "1c4aba40-6638-4c6e-a5d2-b43ce47c749b",
   "metadata": {
    "tags": []
   },
   "outputs": [
    {
     "name": "stdout",
     "output_type": "stream",
     "text": [
      "False\n"
     ]
    }
   ],
   "source": [
    "print(a == b)"
   ]
  },
  {
   "cell_type": "code",
   "execution_count": 60,
   "id": "15d3b96c-e226-4996-82e5-8de84f7e9bdc",
   "metadata": {
    "tags": []
   },
   "outputs": [
    {
     "name": "stdout",
     "output_type": "stream",
     "text": [
      "True\n"
     ]
    }
   ],
   "source": [
    "print(a != b)"
   ]
  },
  {
   "cell_type": "code",
   "execution_count": 61,
   "id": "95f0a774-6ec7-4b72-b51c-f1ba7d010743",
   "metadata": {
    "tags": []
   },
   "outputs": [
    {
     "name": "stdout",
     "output_type": "stream",
     "text": [
      "False\n"
     ]
    }
   ],
   "source": [
    "print(a < b)"
   ]
  },
  {
   "cell_type": "code",
   "execution_count": 62,
   "id": "3eca09c6-4d9a-4cd8-a5c2-6ecc30d729f2",
   "metadata": {
    "tags": []
   },
   "outputs": [
    {
     "name": "stdout",
     "output_type": "stream",
     "text": [
      "True\n"
     ]
    }
   ],
   "source": [
    "print(a > b)"
   ]
  },
  {
   "cell_type": "code",
   "execution_count": 63,
   "id": "3f33ca3e-f23f-46d6-9d71-4a29c9d0722f",
   "metadata": {
    "tags": []
   },
   "outputs": [],
   "source": [
    "#assignment operators\n",
    "#  =, -=, +=,/=,  *="
   ]
  },
  {
   "cell_type": "code",
   "execution_count": 64,
   "id": "c24f9e41-811e-4e47-90e7-308f821c1148",
   "metadata": {
    "tags": []
   },
   "outputs": [],
   "source": [
    "a = 5"
   ]
  },
  {
   "cell_type": "code",
   "execution_count": 65,
   "id": "8da3c9ac-a8bc-43f5-a778-9ac7e6132ef3",
   "metadata": {
    "tags": []
   },
   "outputs": [
    {
     "name": "stdout",
     "output_type": "stream",
     "text": [
      "10\n"
     ]
    }
   ],
   "source": [
    "a = a +5\n",
    "print(a)"
   ]
  },
  {
   "cell_type": "code",
   "execution_count": 66,
   "id": "bb1d89db-9879-4d4c-aa8c-e5ff97a631fc",
   "metadata": {
    "tags": []
   },
   "outputs": [
    {
     "name": "stdout",
     "output_type": "stream",
     "text": [
      "10\n"
     ]
    }
   ],
   "source": [
    "a = 5\n",
    "a += 5\n",
    "print(a)"
   ]
  },
  {
   "cell_type": "code",
   "execution_count": 67,
   "id": "e3a71c7f-e128-4116-a675-4661d890d6ca",
   "metadata": {
    "tags": []
   },
   "outputs": [
    {
     "name": "stdout",
     "output_type": "stream",
     "text": [
      "7\n"
     ]
    }
   ],
   "source": [
    "a -= 3\n",
    "print(a)"
   ]
  },
  {
   "cell_type": "code",
   "execution_count": 68,
   "id": "c22f43dd-4992-4723-be4e-585e17c2abdd",
   "metadata": {
    "tags": []
   },
   "outputs": [
    {
     "name": "stdout",
     "output_type": "stream",
     "text": [
      "14\n"
     ]
    }
   ],
   "source": [
    "a *= 2\n",
    "print(a)"
   ]
  },
  {
   "cell_type": "code",
   "execution_count": 69,
   "id": "e79c6f08-7346-4ce7-9d08-f42a1853b9f4",
   "metadata": {
    "tags": []
   },
   "outputs": [
    {
     "name": "stdout",
     "output_type": "stream",
     "text": [
      "7.0\n"
     ]
    }
   ],
   "source": [
    "a /= 2\n",
    "print(a)"
   ]
  },
  {
   "cell_type": "code",
   "execution_count": 70,
   "id": "60130998-30f6-409d-9525-0f22e19e8bc0",
   "metadata": {
    "tags": []
   },
   "outputs": [],
   "source": [
    "#logical operators\n",
    "# and  , or, not "
   ]
  },
  {
   "cell_type": "code",
   "execution_count": 71,
   "id": "bd8cd656-8b2e-4c92-aff7-10c3b11f95c9",
   "metadata": {
    "tags": []
   },
   "outputs": [
    {
     "name": "stdout",
     "output_type": "stream",
     "text": [
      "False\n",
      "True\n"
     ]
    }
   ],
   "source": [
    "a = True\n",
    "b = False\n",
    "print(a and b)\n",
    "print(a or b)\n"
   ]
  },
  {
   "cell_type": "code",
   "execution_count": 72,
   "id": "efab7d02-1a5e-481f-a520-ea202b53ed28",
   "metadata": {
    "tags": []
   },
   "outputs": [
    {
     "name": "stdout",
     "output_type": "stream",
     "text": [
      "4\n",
      "3\n"
     ]
    }
   ],
   "source": [
    "a = 3\n",
    "b = 4\n",
    "print(a and b)\n",
    "print(a or b)"
   ]
  },
  {
   "cell_type": "code",
   "execution_count": 73,
   "id": "a3a619d7-0581-4da2-b0c7-de06213c22e0",
   "metadata": {
    "tags": []
   },
   "outputs": [
    {
     "data": {
      "text/plain": [
       "False"
      ]
     },
     "execution_count": 73,
     "metadata": {},
     "output_type": "execute_result"
    }
   ],
   "source": [
    "not True"
   ]
  },
  {
   "cell_type": "code",
   "execution_count": 74,
   "id": "352e07f2-4530-4744-8a39-e622c962707b",
   "metadata": {
    "tags": []
   },
   "outputs": [
    {
     "data": {
      "text/plain": [
       "True"
      ]
     },
     "execution_count": 74,
     "metadata": {},
     "output_type": "execute_result"
    }
   ],
   "source": [
    "not False"
   ]
  },
  {
   "cell_type": "code",
   "execution_count": 75,
   "id": "794906ae-5e8d-4ad8-bbd7-17683e631fbf",
   "metadata": {
    "tags": []
   },
   "outputs": [
    {
     "data": {
      "text/plain": [
       "True"
      ]
     },
     "execution_count": 75,
     "metadata": {},
     "output_type": "execute_result"
    }
   ],
   "source": [
    "True or False"
   ]
  },
  {
   "cell_type": "code",
   "execution_count": 76,
   "id": "e8cfeb4f-4ac2-4449-a2e9-78debe459d33",
   "metadata": {
    "tags": []
   },
   "outputs": [],
   "source": [
    "#Special operators\n",
    "\n",
    "#  in operator\n",
    "#  is operator"
   ]
  },
  {
   "cell_type": "code",
   "execution_count": 77,
   "id": "eee0af83-68ef-4609-8091-a88eccdd2a41",
   "metadata": {
    "tags": []
   },
   "outputs": [],
   "source": [
    "name = \"vaibhav Narsinge\""
   ]
  },
  {
   "cell_type": "code",
   "execution_count": 78,
   "id": "1a180cf0-fef8-496e-b721-7cc57ed725c1",
   "metadata": {
    "tags": []
   },
   "outputs": [
    {
     "data": {
      "text/plain": [
       "True"
      ]
     },
     "execution_count": 78,
     "metadata": {},
     "output_type": "execute_result"
    }
   ],
   "source": [
    "\"v\" in name"
   ]
  },
  {
   "cell_type": "code",
   "execution_count": 79,
   "id": "c57692fd-65b8-4915-a85b-f5183de8c879",
   "metadata": {
    "tags": []
   },
   "outputs": [
    {
     "data": {
      "text/plain": [
       "True"
      ]
     },
     "execution_count": 79,
     "metadata": {},
     "output_type": "execute_result"
    }
   ],
   "source": [
    "\"vaibhav\" in name"
   ]
  },
  {
   "cell_type": "code",
   "execution_count": 80,
   "id": "9bd04ae9-a2ca-4882-bed1-f07085e2a7c1",
   "metadata": {
    "tags": []
   },
   "outputs": [
    {
     "data": {
      "text/plain": [
       "False"
      ]
     },
     "execution_count": 80,
     "metadata": {},
     "output_type": "execute_result"
    }
   ],
   "source": [
    "\"rahul\" in name"
   ]
  },
  {
   "cell_type": "code",
   "execution_count": 81,
   "id": "0d2cd85c-530b-40ed-87d7-2bf92a7c7a9c",
   "metadata": {
    "tags": []
   },
   "outputs": [
    {
     "name": "stdout",
     "output_type": "stream",
     "text": [
      "140732138623912 140732138623912\n"
     ]
    }
   ],
   "source": [
    "#is\n",
    "a = 5\n",
    "b = 5\n",
    "print(id(a), id(b))"
   ]
  },
  {
   "cell_type": "code",
   "execution_count": 82,
   "id": "f6cf8e80-482d-4085-a377-e34b0e5b765f",
   "metadata": {
    "tags": []
   },
   "outputs": [
    {
     "data": {
      "text/plain": [
       "True"
      ]
     },
     "execution_count": 82,
     "metadata": {},
     "output_type": "execute_result"
    }
   ],
   "source": [
    "a is b"
   ]
  },
  {
   "cell_type": "code",
   "execution_count": 83,
   "id": "6418a917-5ed4-47cc-9168-79c4939d7bb9",
   "metadata": {
    "tags": []
   },
   "outputs": [
    {
     "name": "stdout",
     "output_type": "stream",
     "text": [
      "140732138627976 140732138625224\n"
     ]
    },
    {
     "data": {
      "text/plain": [
       "False"
      ]
     },
     "execution_count": 83,
     "metadata": {},
     "output_type": "execute_result"
    }
   ],
   "source": [
    "a = 132\n",
    "b = 46\n",
    "print(id(a), id(b))\n",
    "a is b"
   ]
  },
  {
   "cell_type": "code",
   "execution_count": 84,
   "id": "29bca911-0f25-499a-ac34-13ae09373a98",
   "metadata": {
    "tags": []
   },
   "outputs": [],
   "source": [
    "#Conditions \n",
    "#if, else\n",
    "#nested if else"
   ]
  },
  {
   "cell_type": "code",
   "execution_count": 85,
   "id": "ddb2efff-1b47-4296-810f-20eb36330670",
   "metadata": {
    "tags": []
   },
   "outputs": [
    {
     "name": "stdout",
     "output_type": "stream",
     "text": [
      " 34\n"
     ]
    }
   ],
   "source": [
    "age = int(input())\n",
    "\n",
    "if(age < 18):\n",
    "    print(\"You are not eligible\")\n",
    "    print(\"Drive slow\")\n",
    "elif 18 > age < 40:\n",
    "    print(\"Not eligible\")\n",
    "    print(\"Drive midslow\")\n",
    "elif(age > 40):\n",
    "    print(\"Drive slow\")"
   ]
  },
  {
   "cell_type": "code",
   "execution_count": 86,
   "id": "8f33d48c-1c30-4b50-98b1-044d8d81d625",
   "metadata": {},
   "outputs": [
    {
     "name": "stdout",
     "output_type": "stream",
     "text": [
      " 23\n"
     ]
    },
    {
     "name": "stdout",
     "output_type": "stream",
     "text": [
      "You are eligible...\n",
      "Drive fast...\n"
     ]
    }
   ],
   "source": [
    "#if , else\n",
    "age = int(input())\n",
    "\n",
    "if age > 18:\n",
    "    if age >= 65:\n",
    "        print(\"Take care..bye...\")\n",
    "    else:\n",
    "        print(\"You are eligible...\")\n",
    "        print(\"Drive fast...\")\n",
    "else:\n",
    "    print(\"Wait... till you 18+\")"
   ]
  },
  {
   "cell_type": "code",
   "execution_count": 87,
   "id": "c3be27b9-d10a-41ad-99b9-705fdb0cd6b0",
   "metadata": {
    "tags": []
   },
   "outputs": [
    {
     "name": "stdout",
     "output_type": "stream",
     "text": [
      " 23\n"
     ]
    },
    {
     "name": "stdout",
     "output_type": "stream",
     "text": [
      "+ve\n"
     ]
    }
   ],
   "source": [
    "#if, elif,else\n",
    "\n",
    "n = int(input())\n",
    "if n > 0:\n",
    "    print(\"+ve\")\n",
    "elif n==0:\n",
    "    print(\"Zero\")\n",
    "else:\n",
    "    print(\"-ve\")\n"
   ]
  },
  {
   "cell_type": "code",
   "execution_count": 88,
   "id": "7f1d4ba4-782d-403b-ac44-6bff44e87e5a",
   "metadata": {
    "tags": []
   },
   "outputs": [
    {
     "name": "stdout",
     "output_type": "stream",
     "text": [
      "Topper =  98\n"
     ]
    }
   ],
   "source": [
    "# find max of list\n",
    "marks = [90,56,67,87,67,98,45]\n",
    "\n",
    "high = marks[0]\n",
    "#iterate\n",
    "for i in marks:\n",
    "    #check the condition\n",
    "    if i > high:\n",
    "        high = i;\n",
    "print(\"Topper = \",high)"
   ]
  },
  {
   "cell_type": "code",
   "execution_count": 89,
   "id": "3e92c5db-56e9-4c98-a25f-664ae6f81c8f",
   "metadata": {
    "tags": []
   },
   "outputs": [
    {
     "name": "stdout",
     "output_type": "stream",
     "text": [
      "98\n",
      "45\n"
     ]
    }
   ],
   "source": [
    "# using max, min function\n",
    "print(max(marks))\n",
    "print(min(marks))"
   ]
  },
  {
   "cell_type": "code",
   "execution_count": 90,
   "id": "c7f92fd5-f0e7-4f4d-914c-c8c85a5728c2",
   "metadata": {
    "tags": []
   },
   "outputs": [
    {
     "name": "stdout",
     "output_type": "stream",
     "text": [
      " 23\n"
     ]
    },
    {
     "name": "stdout",
     "output_type": "stream",
     "text": [
      "pass\n"
     ]
    }
   ],
   "source": [
    "#grading student\n",
    "\n",
    "mark = int(input())\n",
    "\n",
    "if mark >=90 and mark<=100:\n",
    "    print(\"A grade\")\n",
    "elif mark>=70 and mark<=80:\n",
    "    print(\"Grade B\")\n",
    "elif mark<60:\n",
    "    print(\"pass\")"
   ]
  },
  {
   "cell_type": "code",
   "execution_count": 91,
   "id": "9405330f-1c32-4716-bc70-92692b399243",
   "metadata": {
    "tags": []
   },
   "outputs": [],
   "source": [
    "#loops\n"
   ]
  },
  {
   "cell_type": "code",
   "execution_count": 92,
   "id": "7daeb7c3-3350-4c37-a9c7-175acc3a282d",
   "metadata": {
    "tags": []
   },
   "outputs": [
    {
     "name": "stdout",
     "output_type": "stream",
     "text": [
      "I am the best\n",
      "I am the best\n",
      "I am the best\n",
      "I am the best\n",
      "I am the best\n",
      "I am the best\n"
     ]
    }
   ],
   "source": [
    "#while loop\n",
    "#initialise\n",
    "#loop conditon\n",
    "#updating value\n",
    "\n",
    "i = 1;\n",
    "while i <= 6:\n",
    "    print(\"I am the best\")\n",
    "    i+=1\n",
    "\n"
   ]
  },
  {
   "cell_type": "code",
   "execution_count": 93,
   "id": "346d137a-20d2-4e28-95f7-93c0d5b79ab8",
   "metadata": {
    "tags": []
   },
   "outputs": [
    {
     "name": "stdout",
     "output_type": "stream",
     "text": [
      "1 2 3 4 5 6 7 8 9 10 "
     ]
    }
   ],
   "source": [
    "i = 1\n",
    "while i<=10:\n",
    "    print(i,end=\" \")\n",
    "    i+=1"
   ]
  },
  {
   "cell_type": "code",
   "execution_count": 94,
   "id": "7a5aab43-337c-407d-a167-52956e0df2c7",
   "metadata": {
    "tags": []
   },
   "outputs": [
    {
     "name": "stdout",
     "output_type": "stream",
     "text": [
      "0 2 4 6 8 10 "
     ]
    }
   ],
   "source": [
    "i=0\n",
    "while i<=10:\n",
    "    if i%2 == 0:\n",
    "        print(i,end=\" \")\n",
    "    i+=1"
   ]
  },
  {
   "cell_type": "code",
   "execution_count": 95,
   "id": "f4fae96d-5000-4f85-a863-3053989a02ac",
   "metadata": {
    "scrolled": true,
    "tags": []
   },
   "outputs": [
    {
     "name": "stdout",
     "output_type": "stream",
     "text": [
      "hello\n"
     ]
    }
   ],
   "source": [
    "print(\"hello\")"
   ]
  },
  {
   "cell_type": "code",
   "execution_count": null,
   "id": "5d5ea101-1498-49e2-b550-6da60ad19d7a",
   "metadata": {},
   "outputs": [],
   "source": []
  }
 ],
 "metadata": {
  "kernelspec": {
   "display_name": "Python 3 (ipykernel)",
   "language": "python",
   "name": "python3"
  },
  "language_info": {
   "codemirror_mode": {
    "name": "ipython",
    "version": 3
   },
   "file_extension": ".py",
   "mimetype": "text/x-python",
   "name": "python",
   "nbconvert_exporter": "python",
   "pygments_lexer": "ipython3",
   "version": "3.11.4"
  }
 },
 "nbformat": 4,
 "nbformat_minor": 5
}
